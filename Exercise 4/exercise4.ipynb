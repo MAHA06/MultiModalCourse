{
 "cells": [
  {
   "cell_type": "markdown",
   "metadata": {
    "nbgrader": {
     "grade": false,
     "grade_id": "cell-708d46d3f9180abe",
     "locked": true,
     "schema_version": 3,
     "solution": false
    }
   },
   "source": [
    "# Multimodal Data Fusion - Exercise 4 - Bayesian Inference\n",
    "\n",
    "\n",
    "In this exercise, we will take a closer look at the Bayesian framework and the basics of Bayesian inference to be needed in data fusion systems. You will be learning about prior likelihood, posterior, probabilistic models, and Bayes rule as well as applying these to parameter estimation with linear regression w/o outliers."
   ]
  },
  {
   "cell_type": "markdown",
   "metadata": {
    "nbgrader": {
     "grade": false,
     "grade_id": "cell-32738734cf6f1a4f",
     "locked": true,
     "schema_version": 3,
     "solution": false
    }
   },
   "source": [
    "## Learning goals \n",
    "\n",
    "After completion of this exercise, you should be able to\n",
    "\n",
    "- Understand the basic elements of Bayesian inference\n",
    "- Be able to apply traditional and Bayesian methods in simple parameter estimation tasks (i.e. curve fitting)\n",
    "- Apply outlier robust methods to simple parameter estimation problems\n",
    "  \n",
    "\n",
    "## Relevant lecture\n",
    "Lecture 5.\n",
    "\n",
    "## Relevant Sections in course book\n",
    "\n",
    "Chapter 9-11\n",
    "\n",
    "## Additional Material\n",
    "* Visualization and plotting with [matplotlib](https://matplotlib.org)\n",
    "* Scikit-learn page on [Linear Models](https://scikit-learn.org/stable/modules/linear_model.html)\n",
    "    * Linear Regression model [LinearRegression](https://scikit-learn.org/stable/modules/generated/sklearn.linear_model.LinearRegression.html)\n",
    "    * Bayesian Ridge model [BayesianRidge](https://scikit-learn.org/stable/modules/generated/sklearn.linear_model.BayesianRidge.html#sklearn.linear_model.BayesianRidge)\n",
    "    * RANSAC (RANdom SAmple Consensus) algorithm [RANSACRegressor](https://scikit-learn.org/stable/modules/generated/sklearn.linear_model.RANSACRegressor.html#sklearn.linear_model.RANSACRegressor)\n",
    "\n",
    "## Output Hints\n",
    "Below are the output plots for each method and parameter values for relevant methods\n",
    "\n",
    "|Tutorial|Problem 1|Problem 2|  \n",
    "|:-----------------------------:|:-----------------------------:|:-----------------------------:|\n",
    "| <img src=\"./images/Fig1.png\" /> | <img src=\"./images/Fig2.png\" /> Coefficients: [  0.          12.00090089 -35.07074983  23.44153538] | <img src=\"./images/Fig3.png\" /> Coefficients: [ 0.83622239 -1.02159909 -1.09594268  0.13723005] |\n",
    "| | |Coefficients: [ -0.11091034  11.8342979  -34.66273692  23.17045428] |\n",
    "\n",
    "|Problem 3|Problem 4|  \n",
    "|:-----------------------------:|:-----------------------------:|\n",
    "| <img src=\"./images/Fig4.png\" /> Coefficients: [ 0.         -0.85965833 -5.54688612  4.6818194 ]| <img src=\"./images/Fig5.png\" /> |\n",
    "|Coefficients: [0.99528876 -0.59443356 -0.53728453 -0.36128608]| |\n",
    "|Coefficients: [ 0.99528893 -0.59443379 -0.53728462 -0.36128604]| |\n",
    "\n",
    "| | Problem 5| |\n",
    "|:-----------------------------:|:-----------------------------:|:-----------------------------:|\n",
    "| <img src=\"./images/Fig6.png\" /> | <img src=\"./images/Fig7.png\" /> |<img src=\"./images/Fig8.png\" /> |"
   ]
  },
  {
   "cell_type": "markdown",
   "metadata": {},
   "source": [
    "# Bayesian Inference: Basics"
   ]
  },
  {
   "cell_type": "markdown",
   "metadata": {
    "nbgrader": {
     "grade": false,
     "grade_id": "cell-8d16ae084e9499d4",
     "locked": true,
     "schema_version": 3,
     "solution": false
    }
   },
   "source": [
    "##  Introduction\n",
    "\n",
    "Bayesian inference is a method of statistical inference in which Bayes' theorem is used to update the probability for a hypothesis as more evidence or information becomes available."
   ]
  },
  {
   "cell_type": "markdown",
   "metadata": {},
   "source": [
    "## Questions \n",
    "Define the main premise of Bayesian inference. What are its relative advantages\n",
    "and disadvantages?"
   ]
  },
  {
   "cell_type": "markdown",
   "metadata": {},
   "source": [
    "Ans: (optional)"
   ]
  },
  {
   "cell_type": "markdown",
   "metadata": {},
   "source": [
    "# Parameter estimation: curve fitting"
   ]
  },
  {
   "cell_type": "markdown",
   "metadata": {},
   "source": [
    "<a id='KmeansDemo'></a>\n",
    "<div class=\" alert alert-info\">\n",
    "    <b>Tutorial.</b> Generate sinusoidal data with noise and bias\n",
    "\n",
    "The code below defines a function for generating sinusoidal data with noise and generate random data points for x-axis and y-axis. Complete and run the code below to visualize the data.\n",
    "<p>1) Define our sinusoidal function </p>\n",
    "<p>2) Generate \"size\" number of uniform random data points in the range of 0. and 1. for x-axis </p>\n",
    "<p>3) Generate \"size\" number of random data points from standard normal distribution for y-axis </p>\n",
    "<p>4) Make a deep copy and add outlier bias to 5 samples </p>\n",
    "<p>5) Define linearly spaced vector with 100 points in the range of 0. to 1. </p>\n",
    "<p>6) Plot data point without and with outliers (vectors \"x\" and \"y/y2\") </p>\n",
    "\n",
    "</div>"
   ]
  },
  {
   "cell_type": "code",
   "execution_count": 1,
   "metadata": {},
   "outputs": [],
   "source": [
    "import numpy as np\n",
    "import matplotlib.pyplot as plt\n",
    "from scipy import stats # remove if not needed?!"
   ]
  },
  {
   "cell_type": "markdown",
   "metadata": {},
   "source": [
    "Answer to this block will be provided during exercise session"
   ]
  },
  {
   "cell_type": "code",
   "execution_count": 2,
   "metadata": {},
   "outputs": [
    {
     "name": "stdout",
     "output_type": "stream",
     "text": [
      "y: [-0.19325393  0.96472742 -0.27908037  0.06566317  0.07085916  1.18423701\n",
      "  2.34455931 -1.23429811  0.18144211 -1.47282379 -0.19538595  0.70275489\n",
      " -1.01965909 -0.19588973  1.64184083  1.31401908 -0.61103077  0.12955781\n",
      " -2.88583329  0.01150613 -0.25596671 -0.65548256  1.6869643   2.73475134\n",
      " -1.08003938]\n",
      "x: [0.19151945 0.62210877 0.43772774 0.78535858 0.77997581 0.27259261\n",
      " 0.27646426 0.80187218 0.95813935 0.87593263 0.35781727 0.50099513\n",
      " 0.68346294 0.71270203 0.37025075 0.56119619 0.50308317 0.01376845\n",
      " 0.77282662 0.88264119 0.36488598 0.61539618 0.07538124 0.36882401\n",
      " 0.9331401 ]\n"
     ]
    },
    {
     "data": {
      "text/plain": [
       "[<matplotlib.lines.Line2D at 0x7f0c93c94a10>]"
      ]
     },
     "execution_count": 2,
     "metadata": {},
     "output_type": "execute_result"
    },
    {
     "data": {
      "image/png": "[encoded data removed]",
      "text/plain": [
       "<Figure size 720x288 with 2 Axes>"
      ]
     },
     "metadata": {
      "needs_background": "light"
     },
     "output_type": "display_data"
    }
   ],
   "source": [
    "def func(m): return np.sin(2*np.pi*m)\n",
    "size = 25\n",
    "\n",
    "rng = np.random.RandomState(1234)\n",
    "x = rng.rand(size)\n",
    "y = rng.normal(0,1,size)\n",
    "# print(func(x))\n",
    "# print(y)\n",
    "y = func(x) + y\n",
    "print(\"y:\",y)\n",
    "print(\"x:\",x)\n",
    "bias = 2.5\n",
    "y2 = np.copy(y)\n",
    "y2[15:20] +=bias\n",
    "\n",
    "xt = np.linspace(0,1,num=100)\n",
    "# print(xt)\n",
    "f = plt.figure(figsize=(10,4))\n",
    "f.add_subplot(1,2,1)\n",
    "plt.plot(xt, func(xt), 'b')\n",
    "plt.plot(x, y, '*')\n",
    "\n",
    "f.add_subplot(1,2,2)\n",
    "plt.plot(xt, func(xt), 'b')\n",
    "plt.plot(x, y2, '*')"
   ]
  },
  {
   "cell_type": "markdown",
   "metadata": {},
   "source": [
    "## Linear regression"
   ]
  },
  {
   "cell_type": "markdown",
   "metadata": {},
   "source": [
    "<a id='Task1.1'></a>\n",
    "<div class=\" alert alert-warning\">\n",
    "    <b>Assignment.</b> Problem 1\n",
    "\n",
    "<p> Complete the code below to build and fit a linear regression model for curve fitting on sinusoidal data with noise. </p>\n",
    "    \n",
    "<p>1) Generate \"PolynomialFeatures()\" of \"n_order\" and fit the model to data (Hint: fit_transform())</p>\n",
    "<p>2) Fit linear regression object with \"X\" and \"y\"</p>\n",
    "<p>3) Print fitted linear regression model's coefficients</p>\n",
    "<p>4) Predict the labels using fitted linear regression model for \"Xt\"</p>\n",
    "<p>5) Plot data points and obtained linear regression curve</p>\n",
    "\n",
    "</div>"
   ]
  },
  {
   "cell_type": "code",
   "execution_count": 3,
   "metadata": {},
   "outputs": [
    {
     "name": "stdout",
     "output_type": "stream",
     "text": [
      "(25, 1)\n",
      "(100, 1)\n",
      "(25, 1)\n",
      "(25, 4)\n",
      "Coefficients:\n",
      "[  0.          10.03434979 -28.80612949  18.3447678 ]\n",
      "(100,)\n"
     ]
    },
    {
     "data": {
      "text/plain": [
       "[<matplotlib.lines.Line2D at 0x7f0c930f4990>]"
      ]
     },
     "execution_count": 3,
     "metadata": {},
     "output_type": "execute_result"
    },
    {
     "data": {
      "image/png": "[encoded data removed]",
      "text/plain": [
       "<Figure size 720x360 with 1 Axes>"
      ]
     },
     "metadata": {
      "needs_background": "light"
     },
     "output_type": "display_data"
    }
   ],
   "source": [
    "from sklearn import linear_model\n",
    "from sklearn.preprocessing import PolynomialFeatures\n",
    "\n",
    "## == Create linear regression object == ##\n",
    "lreg = linear_model.LinearRegression()\n",
    "n_order = 3\n",
    "reshaped_x=x.reshape(-1, 1)\n",
    "reshaped_xt=xt.reshape(-1,1)\n",
    "reshaped_y=y.reshape(-1,1)\n",
    "print(reshaped_x.shape)\n",
    "print(reshaped_xt.shape)\n",
    "print(reshaped_y.shape)\n",
    "\n",
    "# Generate \"PolynomialFeatures()\" of \"n_order\" and fit the model to data (Hint: fit_transform())\n",
    "X = PolynomialFeatures(n_order).fit_transform(reshaped_x)\n",
    "Xt = PolynomialFeatures(n_order).fit_transform(reshaped_xt)\n",
    "print(X.shape)\n",
    "# Fit linear regression object with \"X\" and \"y\"\n",
    "lreg.fit(X, y)\n",
    "\n",
    "# Print fitted linear regression model's coefficients \n",
    "print('Coefficients:', )\n",
    "print(lreg.coef_)\n",
    "# Predict the labels using fitted linear regression model for \"Xt\"\n",
    "# print(reshaped_xt.shape)\n",
    "ypred = lreg.predict(Xt)\n",
    "\n",
    "f = plt.figure(figsize=(10,5))\n",
    "f.add_subplot(1,2,1)\n",
    "plt.plot(xt, func(xt), 'b')\n",
    "\n",
    "# Plot data point with symbol '*'\n",
    "plt.plot(x,y,'*')\n",
    "\n",
    "# Plot obtained linear regression curve with 'r'\n",
    "points=np.dot(Xt,lreg.coef_)\n",
    "print(points.shape)\n",
    "plt.plot(xt,points,'r')"
   ]
  },
  {
   "cell_type": "markdown",
   "metadata": {},
   "source": [
    "## Bayesian linear regression"
   ]
  },
  {
   "cell_type": "markdown",
   "metadata": {},
   "source": [
    "<a id='Task1.2'></a>\n",
    "<div class=\" alert alert-warning\">\n",
    "    <b>Assignment.</b> Problem 2\n",
    "\n",
    "<p> Complete the code below to build and fit a bayesian ridge regression model for curve fitting on sinusoidal data with noise.</p>\n",
    "    \n",
    "<p>1) Fit bayesian linear regression object with \"X\" and \"y\" and print coefficients</p>\n",
    "<p>2) Predict the labels using fitted bayesian linear regression model for \"Xt\" and also return the standard deviation</p>\n",
    "<p>3) Plot data point and obtained bayesian linear regression curve with 95% confidence interval</p>\n",
    "<p>4) Repeat step 1 to 3 with new fitted bayesian linear regression model</p>\n",
    "    \n",
    "Note: Plot in red shaded are the 95% confidence interval corresponding to $\\pm 2$ standard deviations above mean.\n",
    "\n",
    "\n",
    "</div>"
   ]
  },
  {
   "cell_type": "code",
   "execution_count": 4,
   "metadata": {},
   "outputs": [
    {
     "name": "stdout",
     "output_type": "stream",
     "text": [
      "0.14198699574872609\n",
      "(100,)\n",
      "0.14198701346255507\n",
      "(100,)\n"
     ]
    },
    {
     "data": {
      "text/plain": [
       "<matplotlib.collections.PolyCollection at 0x7f0c93074ad0>"
      ]
     },
     "execution_count": 4,
     "metadata": {},
     "output_type": "execute_result"
    },
    {
     "data": {
      "image/png": "[encoded data removed]",
      "text/plain": [
       "<Figure size 720x360 with 1 Axes>"
      ]
     },
     "metadata": {
      "needs_background": "light"
     },
     "output_type": "display_data"
    },
    {
     "data": {
      "image/png": "[encoded data removed]",
      "text/plain": [
       "<Figure size 720x360 with 1 Axes>"
      ]
     },
     "metadata": {
      "needs_background": "light"
     },
     "output_type": "display_data"
    }
   ],
   "source": [
    "## == Create bayesian linear regression object == ##\n",
    "breg = linear_model.BayesianRidge(tol=1e-6, fit_intercept=False, compute_score=True)\n",
    "\n",
    "f = plt.figure(figsize=(10,5))\n",
    "\n",
    "# Fit bayesian linear regression object with \"X\" and \"y\" and print coefficients\n",
    "breg.fit(X,y)\n",
    "\n",
    "# Predict the labels using fitted bayesian linear regression model for \"Xt\" and also return the standard deviation\n",
    "ypred, ystd = breg.predict(Xt,return_std=True)\n",
    "\n",
    "# First subplot\n",
    "f.add_subplot(1,2,1)\n",
    "plt.plot(xt, func(xt), 'b')\n",
    "\n",
    "# Plot data point with symbol '*'\n",
    "plt.plot(x,y,'*')\n",
    "\n",
    "# Plot obtained bayesian linear regression curve with 'r'\n",
    "plt.plot(xt,ypred)\n",
    "ymean=np.mean(ypred)\n",
    "print(ymean)\n",
    "print(ystd.shape)\n",
    "plt.fill_between(xt, ypred-ystd, ypred+ystd,\n",
    "                    color=\"pink\", alpha=0.5, label=\"predict std\")\n",
    "\n",
    "# Set new parameters for the bayesian linear regression object\n",
    "breg = linear_model.BayesianRidge(tol=1e-6, fit_intercept=False, compute_score=True)\n",
    "\n",
    "breg.set_params(alpha_init=1.0, lambda_init= 1e-3) \n",
    "# Updating the initial value for alpha (precision of the noise) and \n",
    "# initial value for lambda (precision of the weights)\n",
    "f = plt.figure(figsize=(10,5))\n",
    "\n",
    "breg.fit(X,y)\n",
    "\n",
    "# Predict the labels using fitted bayesian linear regression model for \"Xt\" and also return the standard deviation\n",
    "ypred, ystd = breg.predict(Xt,return_std=True)\n",
    "\n",
    "# First subplot\n",
    "f.add_subplot(1,2,1)\n",
    "plt.plot(xt, func(xt), 'b')\n",
    "\n",
    "# Plot data point with symbol '*'\n",
    "plt.plot(x,y,'*')\n",
    "\n",
    "# Plot obtained bayesian linear regression curve with 'r'\n",
    "plt.plot(xt,ypred)\n",
    "ymean=np.mean(ypred)\n",
    "print(ymean)\n",
    "print(ystd.shape)\n",
    "plt.fill_between(xt, ypred-ystd, ypred+ystd,\n",
    "                    color=\"pink\", alpha=0.5, label=\"predict std\")\n",
    "# Perform the steps from 1 to 3 again with new fitted bayesian linear regression model"
   ]
  },
  {
   "cell_type": "markdown",
   "metadata": {},
   "source": [
    "# Robust parameter estimation: curve fitting"
   ]
  },
  {
   "cell_type": "markdown",
   "metadata": {},
   "source": [
    "## Linear regression and Bayesian linear regression"
   ]
  },
  {
   "cell_type": "markdown",
   "metadata": {},
   "source": [
    "<a id='Task2.1'></a>\n",
    "<div class=\" alert alert-warning\">\n",
    "    <b>Assignment.</b> Problem 3\n",
    "\n",
    "<p> Complete the code below to build and fit linear and bayesian linear regression models for curve fitting on sinusoidal data with noise and bias</p>\n",
    "\n",
    "<p>1) Repeat all the steps from problem 1 and 2 but this time using 'y2' (data with outliers defined in tutorial)</p>\n",
    "<p>2) Compare all the results from Problem 1, 2, and 3. Explain your reasoning why models behave differently?</p>\n",
    "\n",
    "\n",
    "</div>"
   ]
  },
  {
   "cell_type": "code",
   "execution_count": 5,
   "metadata": {},
   "outputs": [],
   "source": [
    "# Your code here"
   ]
  },
  {
   "cell_type": "markdown",
   "metadata": {},
   "source": [
    "#### Your answer here"
   ]
  },
  {
   "cell_type": "markdown",
   "metadata": {},
   "source": [
    "## RANSAC"
   ]
  },
  {
   "cell_type": "markdown",
   "metadata": {},
   "source": [
    "<a id='Task2.2'></a>\n",
    "<div class=\" alert alert-warning\">\n",
    "    <b>Assignment.</b> Problem 4\n",
    "\n",
    "<p> Complete the code below to build and fit a RANSAC model for curve fitting on sinusoidal data with noise and bias</p>\n",
    "<p>2) Fit RANSAC model with \"X\" and \"y2\"</p>\n",
    "<p>3) Print fitted RANSAC model's coefficients</p>\n",
    "<p>4) Predict the labels using fitted RANSAC model for \"Xt\"</p>\n",
    "<p>5) Plot data points and obtained curve</p>\n",
    "<p>6) Compare this results with Problem 3. Explain your reasoning why models behave differently?</p>\n",
    "\n",
    "</div>"
   ]
  },
  {
   "cell_type": "code",
   "execution_count": 6,
   "metadata": {},
   "outputs": [
    {
     "name": "stdout",
     "output_type": "stream",
     "text": [
      "LinearRegression()\n"
     ]
    },
    {
     "data": {
      "text/plain": [
       "[<matplotlib.lines.Line2D at 0x7f0c92f80210>]"
      ]
     },
     "execution_count": 6,
     "metadata": {},
     "output_type": "execute_result"
    },
    {
     "data": {
      "image/png": "[encoded data removed]",
      "text/plain": [
       "<Figure size 720x360 with 1 Axes>"
      ]
     },
     "metadata": {
      "needs_background": "light"
     },
     "output_type": "display_data"
    }
   ],
   "source": [
    "## == Create linear regression object using RANSACRegressor== #\n",
    "from sklearn.linear_model import RANSACRegressor\n",
    "ransac = RANSACRegressor(random_state=0).fit(X,y2)\n",
    "print(ransac.estimator_)\n",
    "ypreds=ransac.predict(Xt)\n",
    "f = plt.figure(figsize=(10,5))\n",
    "f.add_subplot(1,2,1)\n",
    "plt.plot(x,y2,'*')\n",
    "plt.plot(xt, func(xt), 'b')\n",
    "plt.plot(xt,ypreds,'r')\n"
   ]
  },
  {
   "cell_type": "markdown",
   "metadata": {},
   "source": [
    "#### Your answer here"
   ]
  },
  {
   "cell_type": "markdown",
   "metadata": {},
   "source": [
    "## Gaussian Mixture Model"
   ]
  },
  {
   "cell_type": "markdown",
   "metadata": {},
   "source": [
    "<a id='Task2.1'></a>\n",
    "<div class=\" alert alert-warning\">\n",
    "    <b>Assignment.</b> Problem 5\n",
    "\n",
    "<p>Consider the data from file gmm_data.csv. \n",
    "\n",
    "1) Prepare scatter plot of the data where you plot the second column against the first column. \n",
    "    \n",
    "2) Perform K-means clustering on data points: fit model to data and predict the cluster labels of data points. Prepare a scatter plot of data points with different colors indicating different cluster labels. \n",
    " \n",
    "3) Apply Gaussian Mixture Model with parameter covariance_type = 'full' and random_state = 100; again fit model with data and predict cluster labels. Plot data points with different colors corresponding to cluster labels. Use GMM to predict also cluster labels' posterior probabilities. \n",
    "\n",
    "4) Compare K means and GMM; what is their principal difference? How their outputs differ here and what might be the reason for it? </p>\n",
    "\n",
    "</div>"
   ]
  },
  {
   "cell_type": "code",
   "execution_count": 7,
   "metadata": {},
   "outputs": [],
   "source": [
    "# Your code here"
   ]
  }
 ],
 "metadata": {
  "celltoolbar": "Create Assignment",
  "kernelspec": {
   "display_name": "Python 3",
   "language": "python",
   "name": "python3"
  },
  "language_info": {
   "codemirror_mode": {
    "name": "ipython",
    "version": 3
   },
   "file_extension": ".py",
   "mimetype": "text/x-python",
   "name": "python",
   "nbconvert_exporter": "python",
   "pygments_lexer": "ipython3",
   "version": "3.7.8"
  },
  "varInspector": {
   "cols": {
    "lenName": 16,
    "lenType": 16,
    "lenVar": 40
   },
   "kernels_config": {
    "python": {
     "delete_cmd_postfix": "",
     "delete_cmd_prefix": "del ",
     "library": "var_list.py",
     "varRefreshCmd": "print(var_dic_list())"
    },
    "r": {
     "delete_cmd_postfix": ") ",
     "delete_cmd_prefix": "rm(",
     "library": "var_list.r",
     "varRefreshCmd": "cat(var_dic_list()) "
    }
   },
   "types_to_exclude": [
    "module",
    "function",
    "builtin_function_or_method",
    "instance",
    "_Feature"
   ],
   "window_display": false
  }
 },
 "nbformat": 4,
 "nbformat_minor": 4
}
