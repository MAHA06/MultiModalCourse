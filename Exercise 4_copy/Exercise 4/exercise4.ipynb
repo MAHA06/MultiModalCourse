{
 "cells": [
  {
   "cell_type": "markdown",
   "metadata": {
    "nbgrader": {
     "grade": false,
     "grade_id": "cell-708d46d3f9180abe",
     "locked": true,
     "schema_version": 3,
     "solution": false
    }
   },
   "source": [
    "# Multimodal Data Fusion - Exercise 4 - Bayesian Inference\n",
    "\n",
    "\n",
    "In this exercise, we will take a closer look at the Bayesian framework and the basics of Bayesian inference to be needed in data fusion systems. You will be learning about prior likelihood, posterior, probabilistic models, and Bayes rule as well as applying these to parameter estimation with linear regression w/o outliers."
   ]
  },
  {
   "cell_type": "markdown",
   "metadata": {
    "nbgrader": {
     "grade": false,
     "grade_id": "cell-32738734cf6f1a4f",
     "locked": true,
     "schema_version": 3,
     "solution": false
    }
   },
   "source": [
    "## Learning goals \n",
    "\n",
    "After completion of this exercise, you should be able to\n",
    "\n",
    "- Understand the basic elements of Bayesian inference\n",
    "- Be able to apply traditional and Bayesian methods in simple parameter estimation tasks (i.e. curve fitting)\n",
    "- Apply outlier robust methods to simple parameter estimation problems\n",
    "  \n",
    "\n",
    "## Relevant lecture\n",
    "Lecture 5.\n",
    "\n",
    "## Relevant Sections in course book\n",
    "\n",
    "Chapter 9-11\n",
    "\n",
    "## Additional Material\n",
    "* Visualization and plotting with [matplotlib](https://matplotlib.org)\n",
    "* Scikit-learn page on [Linear Models](https://scikit-learn.org/stable/modules/linear_model.html)\n",
    "    * Linear Regression model [LinearRegression](https://scikit-learn.org/stable/modules/generated/sklearn.linear_model.LinearRegression.html)\n",
    "    * Bayesian Ridge model [BayesianRidge](https://scikit-learn.org/stable/modules/generated/sklearn.linear_model.BayesianRidge.html#sklearn.linear_model.BayesianRidge)\n",
    "    * RANSAC (RANdom SAmple Consensus) algorithm [RANSACRegressor](https://scikit-learn.org/stable/modules/generated/sklearn.linear_model.RANSACRegressor.html#sklearn.linear_model.RANSACRegressor)\n",
    "\n",
    "## Output Hints\n",
    "Below are the output plots for each method and parameter values for relevant methods\n",
    "\n",
    "|Tutorial|Problem 1|Problem 2|  \n",
    "|:-----------------------------:|:-----------------------------:|:-----------------------------:|\n",
    "| <img src=\"./images/Fig1.png\" /> | <img src=\"./images/Fig2.png\" /> Coefficients: [  0.          12.00090089 -35.07074983  23.44153538] | <img src=\"./images/Fig3.png\" /> Coefficients: [ 0.83622239 -1.02159909 -1.09594268  0.13723005] |\n",
    "| | |Coefficients: [ -0.11091034  11.8342979  -34.66273692  23.17045428] |\n",
    "\n",
    "|Problem 3|Problem 4|  \n",
    "|:-----------------------------:|:-----------------------------:|\n",
    "| <img src=\"./images/Fig4.png\" /> Coefficients: [ 0.         -0.85965833 -5.54688612  4.6818194 ]| <img src=\"./images/Fig5.png\" /> |\n",
    "|Coefficients: [0.99528876 -0.59443356 -0.53728453 -0.36128608]| |\n",
    "|Coefficients: [ 0.99528893 -0.59443379 -0.53728462 -0.36128604]| |\n",
    "\n",
    "| | Problem 5| |\n",
    "|:-----------------------------:|:-----------------------------:|:-----------------------------:|\n",
    "| <img src=\"./images/Fig6.png\" /> | <img src=\"./images/Fig7.png\" /> |<img src=\"./images/Fig8.png\" /> |"
   ]
  },
  {
   "cell_type": "markdown",
   "metadata": {},
   "source": [
    "# Bayesian Inference: Basics"
   ]
  },
  {
   "cell_type": "markdown",
   "metadata": {
    "nbgrader": {
     "grade": false,
     "grade_id": "cell-8d16ae084e9499d4",
     "locked": true,
     "schema_version": 3,
     "solution": false
    }
   },
   "source": [
    "##  Introduction\n",
    "\n",
    "Bayesian inference is a method of statistical inference in which Bayes' theorem is used to update the probability for a hypothesis as more evidence or information becomes available."
   ]
  },
  {
   "cell_type": "markdown",
   "metadata": {},
   "source": [
    "## Questions \n",
    "Define the main premise of Bayesian inference. What are its relative advantages\n",
    "and disadvantages?"
   ]
  },
  {
   "cell_type": "markdown",
   "metadata": {},
   "source": [
    "Ans: (optional)"
   ]
  },
  {
   "cell_type": "markdown",
   "metadata": {},
   "source": [
    "# Parameter estimation: curve fitting"
   ]
  },
  {
   "cell_type": "markdown",
   "metadata": {},
   "source": [
    "<a id='KmeansDemo'></a>\n",
    "<div class=\" alert alert-info\">\n",
    "    <b>Tutorial.</b> Generate sinusoidal data with noise and bias\n",
    "\n",
    "The code below defines a function for generating sinusoidal data with noise and generate random data points for x-axis and y-axis. Complete and run the code below to visualize the data.\n",
    "<p>1) Define our sinusoidal function </p>\n",
    "<p>2) Generate \"size\" number of uniform random data points in the range of 0. and 1. for x-axis </p>\n",
    "<p>3) Generate \"size\" number of random data points from standard normal distribution for y-axis </p>\n",
    "<p>4) Make a deep copy and add outlier bias to 5 samples </p>\n",
    "<p>5) Define linearly spaced vector with 100 points in the range of 0. to 1. </p>\n",
    "<p>6) Plot data point without and with outliers (vectors \"x\" and \"y/y2\") </p>\n",
    "\n",
    "</div>"
   ]
  },
  {
   "cell_type": "code",
   "execution_count": null,
   "metadata": {},
   "outputs": [],
   "source": [
    "import numpy as np\n",
    "import matplotlib.pyplot as plt\n",
    "from scipy import stats # remove if not needed?!"
   ]
  },
  {
   "cell_type": "markdown",
   "metadata": {},
   "source": [
    "Answer to this block will be provided during exercise session"
   ]
  },
  {
   "cell_type": "code",
   "execution_count": null,
   "metadata": {},
   "outputs": [],
   "source": [
    "def func(x): return np.sin(2*np.pi*x)\n",
    "\n",
    "size = 25\n",
    "\n",
    "rng = np.random.RandomState(1234)\n",
    "x = \n",
    "\n",
    "y = \n",
    "y = func(x) + y\n",
    "\n",
    "bias = 2.5\n",
    "y2 = \n",
    "y2[15:20] = \n",
    "\n",
    "xt = \n",
    "f = plt.figure(figsize=(10,4))\n",
    "f.add_subplot(1,2,1)\n",
    "plt.plot(xt, func(xt), 'b')\n",
    "plt.plot(x, y, '*')\n",
    "\n",
    "f.add_subplot(1,2,2)\n",
    "plt.plot(xt, func(xt), 'b')\n",
    "plt.plot(x, y2, '*')"
   ]
  },
  {
   "cell_type": "markdown",
   "metadata": {},
   "source": [
    "## Linear regression"
   ]
  },
  {
   "cell_type": "markdown",
   "metadata": {},
   "source": [
    "<a id='Task1.1'></a>\n",
    "<div class=\" alert alert-warning\">\n",
    "    <b>Assignment.</b> Problem 1\n",
    "\n",
    "<p> Complete the code below to build and fit a linear regression model for curve fitting on sinusoidal data with noise. </p>\n",
    "    \n",
    "<p>1) Generate \"PolynomialFeatures()\" of \"n_order\" and fit the model to data (Hint: fit_transform())</p>\n",
    "<p>2) Fit linear regression object with \"X\" and \"y\"</p>\n",
    "<p>3) Print fitted linear regression model's coefficients</p>\n",
    "<p>4) Predict the labels using fitted linear regression model for \"Xt\"</p>\n",
    "<p>5) Plot data points and obtained linear regression curve</p>\n",
    "\n",
    "</div>"
   ]
  },
  {
   "cell_type": "code",
   "execution_count": null,
   "metadata": {},
   "outputs": [],
   "source": [
    "from sklearn import linear_model\n",
    "from sklearn.preprocessing import PolynomialFeatures\n",
    "\n",
    "## == Create linear regression object == ##\n",
    "lreg = linear_model.LinearRegression()\n",
    "n_order = 3\n",
    "\n",
    "# Generate \"PolynomialFeatures()\" of \"n_order\" and fit the model to data (Hint: fit_transform())\n",
    "X = \n",
    "Xt = \n",
    "\n",
    "# Fit linear regression object with \"X\" and \"y\"\n",
    "lreg.fit(X, y)\n",
    "\n",
    "# Print fitted linear regression model's coefficients \n",
    "print('Coefficients:', )\n",
    "\n",
    "# Predict the labels using fitted linear regression model for \"Xt\"\n",
    "ypred = \n",
    "\n",
    "f = plt.figure(figsize=(10,5))\n",
    "f.add_subplot(1,2,1)\n",
    "plt.plot(xt, func(xt), 'b')\n",
    "\n",
    "# Plot data point with symbol '*'\n",
    "plt.plot()\n",
    "\n",
    "# Plot obtained linear regression curve with 'r'\n",
    "plt.plot()"
   ]
  },
  {
   "cell_type": "markdown",
   "metadata": {},
   "source": [
    "## Bayesian linear regression"
   ]
  },
  {
   "cell_type": "markdown",
   "metadata": {},
   "source": [
    "<a id='Task1.2'></a>\n",
    "<div class=\" alert alert-warning\">\n",
    "    <b>Assignment.</b> Problem 2\n",
    "\n",
    "<p> Complete the code below to build and fit a bayesian ridge regression model for curve fitting on sinusoidal data with noise.</p>\n",
    "    \n",
    "<p>1) Fit bayesian linear regression object with \"X\" and \"y\" and print coefficients</p>\n",
    "<p>2) Predict the labels using fitted bayesian linear regression model for \"Xt\" and also return the standard deviation</p>\n",
    "<p>3) Plot data point and obtained bayesian linear regression curve with 95% confidence interval</p>\n",
    "<p>4) Repeat step 1 to 3 with new fitted bayesian linear regression model</p>\n",
    "    \n",
    "Note: Plot in red shaded are the 95% confidence interval corresponding to $\\pm 2$ standard deviations above mean.\n",
    "\n",
    "\n",
    "</div>"
   ]
  },
  {
   "cell_type": "code",
   "execution_count": null,
   "metadata": {},
   "outputs": [],
   "source": [
    "## == Create bayesian linear regression object == ##\n",
    "breg = linear_model.BayesianRidge(tol=1e-6, fit_intercept=False, compute_score=True)\n",
    "\n",
    "f = plt.figure(figsize=(10,5))\n",
    "\n",
    "# Fit bayesian linear regression object with \"X\" and \"y\" and print coefficients\n",
    "\n",
    "\n",
    "# Predict the labels using fitted bayesian linear regression model for \"Xt\" and also return the standard deviation\n",
    "ypred, ystd = \n",
    "\n",
    "# First subplot\n",
    "f.add_subplot(1,2,1)\n",
    "plt.plot(xt, func(xt), 'b')\n",
    "\n",
    "# Plot data point with symbol '*'\n",
    "plt.plot()\n",
    "\n",
    "# Plot obtained bayesian linear regression curve with 'r'\n",
    "plt.plot()\n",
    "\n",
    "plt.fill_between(xt, ymean-ystd, ymean+ystd,\n",
    "                    color=\"pink\", alpha=0.5, label=\"predict std\")\n",
    "\n",
    "# Set new parameters for the bayesian linear regression object\n",
    "breg.set_params(alpha_init=1., lambda_init= 1e-3) \n",
    "# Updating the initial value for alpha (precision of the noise) and \n",
    "# initial value for lambda (precision of the weights)\n",
    "\n",
    "# Perform the steps from 1 to 3 again with new fitted bayesian linear regression model"
   ]
  },
  {
   "cell_type": "markdown",
   "metadata": {},
   "source": [
    "# Robust parameter estimation: curve fitting"
   ]
  },
  {
   "cell_type": "markdown",
   "metadata": {},
   "source": [
    "## Linear regression and Bayesian linear regression"
   ]
  },
  {
   "cell_type": "markdown",
   "metadata": {},
   "source": [
    "<a id='Task2.1'></a>\n",
    "<div class=\" alert alert-warning\">\n",
    "    <b>Assignment.</b> Problem 3\n",
    "\n",
    "<p> Complete the code below to build and fit linear and bayesian linear regression models for curve fitting on sinusoidal data with noise and bias</p>\n",
    "\n",
    "<p>1) Repeat all the steps from problem 1 and 2 but this time using 'y2' (data with outliers defined in tutorial)</p>\n",
    "<p>2) Compare all the results from Problem 1, 2, and 3. Explain your reasoning why models behave differently?</p>\n",
    "\n",
    "\n",
    "</div>"
   ]
  },
  {
   "cell_type": "code",
   "execution_count": null,
   "metadata": {},
   "outputs": [],
   "source": [
    "# Your code here"
   ]
  },
  {
   "cell_type": "markdown",
   "metadata": {},
   "source": [
    "#### Your answer here"
   ]
  },
  {
   "cell_type": "markdown",
   "metadata": {},
   "source": [
    "## RANSAC"
   ]
  },
  {
   "cell_type": "markdown",
   "metadata": {},
   "source": [
    "<a id='Task2.2'></a>\n",
    "<div class=\" alert alert-warning\">\n",
    "    <b>Assignment.</b> Problem 4\n",
    "\n",
    "<p> Complete the code below to build and fit a RANSAC model for curve fitting on sinusoidal data with noise and bias</p>\n",
    "<p>2) Fit RANSAC model with \"X\" and \"y2\"</p>\n",
    "<p>3) Print fitted RANSAC model's coefficients</p>\n",
    "<p>4) Predict the labels using fitted RANSAC model for \"Xt\"</p>\n",
    "<p>5) Plot data points and obtained curve</p>\n",
    "<p>6) Compare this results with Problem 3. Explain your reasoning why models behave differently?</p>\n",
    "\n",
    "</div>"
   ]
  },
  {
   "cell_type": "code",
   "execution_count": null,
   "metadata": {},
   "outputs": [],
   "source": [
    "## == Create linear regression object using RANSACRegressor== #\n",
    "ransac = \n"
   ]
  },
  {
   "cell_type": "markdown",
   "metadata": {},
   "source": [
    "#### Your answer here"
   ]
  },
  {
   "cell_type": "markdown",
   "metadata": {},
   "source": [
    "## Gaussian Mixture Model"
   ]
  },
  {
   "cell_type": "markdown",
   "metadata": {},
   "source": [
    "<a id='Task2.1'></a>\n",
    "<div class=\" alert alert-warning\">\n",
    "    <b>Assignment.</b> Problem 5\n",
    "\n",
    "<p>Consider the data from file gmm_data.csv. \n",
    "\n",
    "1) Prepare scatter plot of the data where you plot the second column against the first column. \n",
    "    \n",
    "2) Perform K-means clustering on data points: fit model to data and predict the cluster labels of data points. Prepare a scatter plot of data points with different colors indicating different cluster labels. \n",
    " \n",
    "3) Apply Gaussian Mixture Model with parameter covariance_type = 'full' and random_state = 100; again fit model with data and predict cluster labels. Plot data points with different colors corresponding to cluster labels. Use GMM to predict also cluster labels' posterior probabilities. \n",
    "\n",
    "4) Compare K means and GMM; what is their principal difference? How their outputs differ here and what might be the reason for it? </p>\n",
    "\n",
    "</div>"
   ]
  },
  {
   "cell_type": "code",
   "execution_count": null,
   "metadata": {},
   "outputs": [],
   "source": [
    "# Your code here"
   ]
  }
 ],
 "metadata": {
  "celltoolbar": "Create Assignment",
  "kernelspec": {
   "display_name": "Python 3",
   "language": "python",
   "name": "python3"
  },
  "language_info": {
   "codemirror_mode": {
    "name": "ipython",
    "version": 3
   },
   "file_extension": ".py",
   "mimetype": "text/x-python",
   "name": "python",
   "nbconvert_exporter": "python",
   "pygments_lexer": "ipython3",
   "version": "3.7.8"
  },
  "varInspector": {
   "cols": {
    "lenName": 16,
    "lenType": 16,
    "lenVar": 40
   },
   "kernels_config": {
    "python": {
     "delete_cmd_postfix": "",
     "delete_cmd_prefix": "del ",
     "library": "var_list.py",
     "varRefreshCmd": "print(var_dic_list())"
    },
    "r": {
     "delete_cmd_postfix": ") ",
     "delete_cmd_prefix": "rm(",
     "library": "var_list.r",
     "varRefreshCmd": "cat(var_dic_list()) "
    }
   },
   "types_to_exclude": [
    "module",
    "function",
    "builtin_function_or_method",
    "instance",
    "_Feature"
   ],
   "window_display": false
  }
 },
 "nbformat": 4,
 "nbformat_minor": 4
}
