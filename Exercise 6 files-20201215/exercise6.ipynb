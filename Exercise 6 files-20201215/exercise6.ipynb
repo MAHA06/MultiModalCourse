{
 "cells": [
  {
   "cell_type": "markdown",
   "metadata": {
    "nbgrader": {
     "grade": false,
     "grade_id": "cell-708d46d3f9180abe",
     "locked": true,
     "schema_version": 3,
     "solution": false
    }
   },
   "source": [
    "# Multimodal Data Fusion - Exercise 6 - Bayesian Decision Theory and Ensemble Learning\n",
    "\n",
    "\n",
    "In this exercise, we will take a closer look at the Bayesian decision theory in pattern classification and in particular naive Bayes classification as a background and then represent ensemble learning."
   ]
  },
  {
   "cell_type": "markdown",
   "metadata": {
    "nbgrader": {
     "grade": false,
     "grade_id": "cell-32738734cf6f1a4f",
     "locked": true,
     "schema_version": 3,
     "solution": false
    }
   },
   "source": [
    "## Learning goals \n",
    "\n",
    "After this exercise, you should  \n",
    "\n",
    "- be able to apply naive Bayes classifier to typical classification problems\n",
    "- be able to apply ensemble method such as bagging and boosting to combine hypotheses\n",
    "- be able combine classifier output with different approaches for data fusion\n",
    "\n",
    "## Relevant lecture\n",
    "Lecture 7.\n",
    "  \n",
    "## Relevant Sections in course book\n",
    "\n",
    "Chapter 13-14.\n",
    "\n",
    "## Additional Material \n",
    "\n",
    "Naive Bayes: https://scikit-learn.org/stable/modules/naive_bayes.html\n",
    "\n",
    "Adaboost:  https://scikit-learn.org/stable/modules/ensemble.html#adaboost\n",
    "\n",
    "Support vector machines:  https://towardsdatascience.com/support-vector-machine-introduction-to-machine-learning-algorithms-934a444fca47 and  https://scikit-learn.org/stable/modules/svm.html \n",
    "\n",
    "Bagging: https://scikit-learn.org/stable/modules/ensemble.html#bagging-meta-estimator\n"
   ]
  },
  {
   "cell_type": "markdown",
   "metadata": {},
   "source": [
    "# Introduction\n",
    "\n",
    "In this exercise, the followig base classifiers are used: Naive Bayes, Adaboost and Support vector machines. In addition, bagging ensemble method is applied.\n",
    "\n",
    "You can find info about the classifiers and their usage from the course book and the additional material."
   ]
  },
  {
   "cell_type": "markdown",
   "metadata": {},
   "source": [
    "# 1. Bayesian decision theory"
   ]
  },
  {
   "cell_type": "markdown",
   "metadata": {},
   "source": [
    "## Tutorial"
   ]
  },
  {
   "cell_type": "markdown",
   "metadata": {},
   "source": [
    "<div class=\" alert alert-info\">\n",
    "We consider a dataset containing information about animal species. From the full dataset certain columns are selected for classification problem. A separate training set is extracted and summary of it is printed. \n",
    "\n",
    "</div>"
   ]
  },
  {
   "cell_type": "code",
   "execution_count": 1,
   "metadata": {
    "scrolled": true
   },
   "outputs": [
    {
     "name": "stdout",
     "output_type": "stream",
     "text": [
      "         0   1   2   3   4   5   6   7   8   9   10  11  12  13  14  15  16  \\\n",
      "0  aardvark   1   0   0   1   0   0   1   1   1   1   0   0   4   0   0   1   \n",
      "1  antelope   1   0   0   1   0   0   0   1   1   1   0   0   4   1   0   1   \n",
      "2      bass   0   0   1   0   0   1   1   1   1   0   0   1   0   1   0   0   \n",
      "3      bear   1   0   0   1   0   0   1   1   1   1   0   0   4   0   0   1   \n",
      "4      boar   1   0   0   1   0   0   1   1   1   1   0   0   4   1   0   1   \n",
      "\n",
      "   17  \n",
      "0   1  \n",
      "1   1  \n",
      "2   4  \n",
      "3   1  \n",
      "4   1  \n",
      "        legs  airborne\n",
      "count    100       100\n",
      "unique     3         2\n",
      "top        4         0\n",
      "freq      48        65\n",
      "        class_type\n",
      "count          100\n",
      "unique           2\n",
      "top              1\n",
      "freq            60\n"
     ]
    }
   ],
   "source": [
    "import numpy as np\n",
    "import pandas as pd\n",
    "import matplotlib.pyplot as plt\n",
    "\n",
    "data = pd.read_csv(\"http://archive.ics.uci.edu/ml/machine-learning-databases/zoo/zoo.data\", delimiter=\",\", header=None)\n",
    "data2 = pd.read_csv(\"zoo2.csv\", delimiter=\",\", header=0)\n",
    "data3 = pd.read_csv(\"zoo3.csv\", delimiter=\",\", header=0)\n",
    "\n",
    "\n",
    "print(data.head())\n",
    "\n",
    "#Remove animal names from the data (= first column).\n",
    "data = data.iloc[:,1:18]\n",
    "data2 = data2.iloc[:,1:18]\n",
    "data3 = data3.iloc[:,1:18]\n",
    "\n",
    "#Add column names.legs\n",
    "data.columns = [\"hair\", \"feathers\",\"eggs\",\"milk\",\"airborne\",\"aquatic\",\"predator\",\"toothed\",\"backbone\",\"breathes\",\"venomous\",\n",
    "                \"fins\",\"legs\",\"tail\",\"domestic\",\"catsize\",\"class_type\"]\n",
    "\n",
    "data = data.append(data2, ignore_index=True)\n",
    "data = data.append(data3, ignore_index=True)\n",
    "\n",
    "data = data.astype('category')\n",
    "\n",
    "\n",
    "#Select training data X and training labels y\n",
    "#Let's select columns legs and airborn and classes 1 and 2 (mammals and birds)\n",
    "\n",
    "X = data.loc[(data[\"class_type\"]==2) | (data[\"class_type\"]==1), [\"legs\", \"airborne\"]]\n",
    "y = data.loc[(data[\"class_type\"]==2) | (data[\"class_type\"]==1), [\"class_type\"]]\n",
    "\n",
    "#Look basic info about the data selected.\n",
    "print(X.describe())\n",
    "print(y.describe())"
   ]
  },
  {
   "cell_type": "markdown",
   "metadata": {},
   "source": [
    "<div class=\" alert alert-info\">    \n",
    "Below we continue to process the data and plot it so that marker size presents the number of samples fulfilling the conditions presented by x and y axis. \n",
    "\n",
    "</div>"
   ]
  },
  {
   "cell_type": "code",
   "execution_count": 2,
   "metadata": {},
   "outputs": [
    {
     "data": {
      "image/png": "[encoded data removed]",
      "text/plain": [
       "<Figure size 432x288 with 1 Axes>"
      ]
     },
     "metadata": {
      "needs_background": "light"
     },
     "output_type": "display_data"
    }
   ],
   "source": [
    "#Change the format into numpy-array as that format is needed further instead of dataframe.\n",
    "X = np.array(X)\n",
    "y = np.array(y)\n",
    "\n",
    "#Do a scatter plot of values.\n",
    "\n",
    "fig, ax = plt.subplots()\n",
    "\n",
    "x_legs = [0,2,4]\n",
    "y_air = [0,1]\n",
    "groups = [1,2]\n",
    "colors = [\"blue\", \"red\"]\n",
    "\n",
    "#Adjust marker size according to number of samples \n",
    "\n",
    "for group in groups:\n",
    "    subX = X[np.where(y==group)[0],:]\n",
    "\n",
    "    for x in x_legs:\n",
    "        subsubX = subX[np.where(subX[:,[0]]==x)[0],1]\n",
    "\n",
    "        for s in y_air:\n",
    "            marker_size = len(np.where(subsubX==s)[0])\n",
    "            scatter = ax.scatter(x, s, marker='o',c=colors[group-1],\n",
    "                s=marker_size*100, edgecolor='k', alpha=0.5, label=group)\n",
    "\n",
    "#Get legend handles and select only one handle from each group.\n",
    "handles,labels = ax.get_legend_handles_labels()\n",
    "legend = ax.legend((handles[2], handles[8]),('1=mammals', '2=birds'), loc = [1.05, 0.7], title = \"Classes\", markerscale=0.5)   \n",
    "\n",
    "plt.show()"
   ]
  },
  {
   "cell_type": "markdown",
   "metadata": {},
   "source": [
    "We also create an NaiveBayes classifier and train it. A prediction for a test point [2,0] (two-legged animals which cannot fly) is calculated and its posterior probabilites."
   ]
  },
  {
   "cell_type": "code",
   "execution_count": 3,
   "metadata": {},
   "outputs": [
    {
     "name": "stdout",
     "output_type": "stream",
     "text": [
      "The predicted class for a point [2, 0] is 2\n",
      "The probability that the point belongs to class 1 is 0.43157179532387574\n",
      "The probability that the point belongs to class 2 is 0.5684282046761243\n"
     ]
    }
   ],
   "source": [
    "from sklearn.naive_bayes import CategoricalNB\n",
    "#Create Categorical Naive Bayes object\n",
    "cnb = CategoricalNB(fit_prior=False)\n",
    "\n",
    "#Fit model with X and y. np.ravel() is used for shaping y from column vector into 1D-array format.\n",
    "cnb = cnb.fit(X,np.ravel(y))\n",
    "\n",
    "#Predict the class for a sample point (2,0).\n",
    "sample = [2,0]\n",
    "predClass = cnb.predict([sample])[0]\n",
    "\n",
    "#Posterior probabilities that sample [2,0] belongs to class 1 and class 2.\n",
    "prob = cnb.predict_proba([sample])\n",
    "\n",
    "#Print class.\n",
    "print(\"The predicted class for a point\",sample,\"is\", predClass)\n",
    "print(\"The probability that the point belongs to class 1 is\", prob[0,0])\n",
    "print(\"The probability that the point belongs to class 2 is\", prob[0,1])"
   ]
  },
  {
   "cell_type": "markdown",
   "metadata": {},
   "source": [
    "The classifier predicts that the sample is a mammal."
   ]
  },
  {
   "cell_type": "markdown",
   "metadata": {},
   "source": [
    "## Problems"
   ]
  },
  {
   "cell_type": "markdown",
   "metadata": {},
   "source": [
    "<div class=\" alert alert-warning\"> \n",
    "    <b>Problem 1.1.</b> \n",
    "    \n",
    "Look basic info of both groups (birds and mammals) separately from the selected training data and answer to the following two questions.\n",
    "    \n",
    "1. How many mammals there is with two legs?\n",
    "    \n",
    "2. How many of them can fly and how many cannot?\n",
    "    \n",
    "\n",
    "</div>"
   ]
  },
  {
   "cell_type": "code",
   "execution_count": 4,
   "metadata": {},
   "outputs": [
    {
     "name": "stdout",
     "output_type": "stream",
     "text": [
      "Mammals size: 8\n",
      "Fly mammals  2\n",
      "Non flying mammals 6\n",
      "Fly birds size: 33\n",
      "No fly birds 7\n"
     ]
    }
   ],
   "source": [
    "#Add your code here.\n",
    "mammals = data.loc[ (data[\"class_type\"]==1), :]\n",
    "mammals2leg=mammals[mammals[\"legs\"]==2]\n",
    "flyMammals=mammals2leg[mammals2leg[\"airborne\"]==1]\n",
    "birds=data.loc[(data[\"class_type\"]==2),:]\n",
    "flyBirds=birds[(birds[\"airborne\"]==1)]\n",
    "print(\"Mammals size:\",mammals2leg.shape[0])\n",
    "print(\"Fly mammals \",flyMammals.shape[0])\n",
    "print(\"Non flying mammals\",mammals2leg.shape[0]-flyMammals.shape[0])\n",
    "print(\"Fly birds size:\",flyBirds.shape[0])\n",
    "print(\"No fly birds\", birds.shape[0]-flyBirds.shape[0])\n",
    "\n"
   ]
  },
  {
   "cell_type": "markdown",
   "metadata": {},
   "source": [
    "<div class=\" alert alert-warning\"> \n",
    "    <b>Problem 1.2.</b> \n",
    "    \n",
    "Answer the following questions.\n",
    "    \n",
    "1.Why animals with 2 legs and which cannot fly are classified as mammals although number of birds grouped as having two legs and unable to fly is bigger?\n",
    "    \n",
    "2.According to Wikipedia (https://en.wikipedia.org/wiki/Flightless_bird) there are 60 bird species that cannot fly. Unfortunately, no exact estimate of 2 legged mammals was found but if it is less than 60, what can you say about the performance of our model in real life? How could you improve our model with the data set given? Do improvements and tell what are the probabilities now? HINT: check parameters of CategoricalNB().\n",
    "\n",
    "</div>"
   ]
  },
  {
   "cell_type": "markdown",
   "metadata": {},
   "source": [
    "# Add your code here.\n",
    "1. Because it considers the total number of available species. In this case 6 out of 8 mammals cannot fly whilst only 7 out of 40 birds cannot fly. By this, the animal has a bigger inner-class chance of being a non-flying 2 legged mammal  \n",
    "2. I would also consider the number of samples in a class because the way we do it now we have unbalanced classes. use the parameter fit_prior to False so that the classifier doesn't fit the prior probabilities to the data\n",
    "\n"
   ]
  },
  {
   "cell_type": "markdown",
   "metadata": {},
   "source": [
    "# 2. Ensemble learning"
   ]
  },
  {
   "cell_type": "markdown",
   "metadata": {},
   "source": [
    "## Tutorial"
   ]
  },
  {
   "cell_type": "markdown",
   "metadata": {},
   "source": [
    "<div class=\" alert alert-info\">\n",
    "In this part we familiarize ourselves with two ensemble methods called bagging and boosting.\n",
    "</div>"
   ]
  },
  {
   "cell_type": "markdown",
   "metadata": {},
   "source": [
    "### Bagging"
   ]
  },
  {
   "cell_type": "markdown",
   "metadata": {},
   "source": [
    "<div class=\" alert alert-info\">\n",
    "Below we use Gaussian Naive Bayes classifier as a weak classifier. Here we use Iris-dataset found from Scikit-learn's data sets. We train our model with different number of weak classifiers involved and see how it affects to our test results. Note the use of k-fold cross-validation from sklearn.\n",
    "</div>"
   ]
  },
  {
   "cell_type": "code",
   "execution_count": 6,
   "metadata": {},
   "outputs": [
    {
     "name": "stdout",
     "output_type": "stream",
     "text": [
      "       sepal length (cm)  sepal width (cm)  petal length (cm)  \\\n",
      "count         150.000000        150.000000         150.000000   \n",
      "mean            5.843333          3.057333           3.758000   \n",
      "std             0.828066          0.435866           1.765298   \n",
      "min             4.300000          2.000000           1.000000   \n",
      "25%             5.100000          2.800000           1.600000   \n",
      "50%             5.800000          3.000000           4.350000   \n",
      "75%             6.400000          3.300000           5.100000   \n",
      "max             7.900000          4.400000           6.900000   \n",
      "\n",
      "       petal width (cm)  \n",
      "count        150.000000  \n",
      "mean           1.199333  \n",
      "std            0.762238  \n",
      "min            0.100000  \n",
      "25%            0.300000  \n",
      "50%            1.300000  \n",
      "75%            1.800000  \n",
      "max            2.500000  \n",
      "count    150.000000\n",
      "mean       1.000000\n",
      "std        0.819232\n",
      "min        0.000000\n",
      "25%        0.000000\n",
      "50%        1.000000\n",
      "75%        2.000000\n",
      "max        2.000000\n",
      "Name: target, dtype: float64\n"
     ]
    },
    {
     "data": {
      "image/png": "[encoded data removed]",
      "text/plain": [
       "<Figure size 432x288 with 1 Axes>"
      ]
     },
     "metadata": {
      "needs_background": "light"
     },
     "output_type": "display_data"
    }
   ],
   "source": [
    "#import libraries\n",
    "import pandas as pd\n",
    "from sklearn.naive_bayes import GaussianNB\n",
    "from sklearn.ensemble import BaggingClassifier\n",
    "from sklearn.datasets import load_iris\n",
    "from sklearn.model_selection import StratifiedKFold\n",
    "\n",
    "#Load Iris-dataset.\n",
    "dataIris = load_iris(as_frame=True)\n",
    "dataIris = dataIris.frame\n",
    "\n",
    "#Separate train and test set.\n",
    "X = dataIris.iloc[:,:4]\n",
    "y = dataIris.iloc[:,4]\n",
    "\n",
    "#Look basic info about the data selected.\n",
    "print(X.describe())\n",
    "print(y.describe())\n",
    "\n",
    "#Transform to numpy array.\n",
    "X = np.array(dataIris.iloc[:,:4])\n",
    "y = np.ravel(np.array((dataIris.iloc[:,4])))\n",
    "\n",
    "#Here cross-validation (stratified K-fold) is used.\n",
    "skf = StratifiedKFold()\n",
    "\n",
    "#Initialize variables to store the number of laps and an array for storing accuracy values.\n",
    "learn_count = 0\n",
    "learning = np.zeros([20,2])\n",
    "\n",
    "#Test different number of weak classifiers from 1 to 20.\n",
    "for n_estim in range(1,21,1):\n",
    "    \n",
    "    #Create BaggingClassifier() object.\n",
    "    bc = BaggingClassifier(base_estimator=GaussianNB(), n_estimators= n_estim, random_state=0)\n",
    "    \n",
    "    count = 0\n",
    "    accuracies = np.zeros([5,2])\n",
    "\n",
    "    #Fit model and predict the outcome\n",
    "    for train_index, test_index in skf.split(X, y):\n",
    "        #print(train_index)\n",
    "        X_train, X_test = X[train_index], X[test_index]\n",
    "        y_train, y_test = y[train_index], y[test_index]\n",
    "    \n",
    "        #Fit it with X and y.\n",
    "        bc.fit(X_train,y_train)\n",
    "\n",
    "        #Calculate training and testing accuracies\n",
    "        train_acc = bc.score(X_train, y_train)\n",
    "        test_acc  = bc.score(X_test, y_test)\n",
    "    \n",
    "        accuracies[count,0] = train_acc\n",
    "        accuracies[count,1] = test_acc\n",
    "    \n",
    "        count += 1\n",
    "    \n",
    "    #Calculate the mean of all folds\n",
    "    mean_acc = np.mean(accuracies,axis=0)\n",
    "   \n",
    "    #save average means to final accuracy array.\n",
    "    learning[learn_count,:] = mean_acc\n",
    "    learn_count += 1\n",
    "\n",
    "#Plot learning curve.\n",
    "fig2,ax2 = plt.subplots()\n",
    "\n",
    "ax2.plot(range(1,21,1),learning[:,0],'bo-', label = 'train_acc')\n",
    "ax2.plot(range(1,21,1),learning[:,1],'yo-', label = 'test_acc')\n",
    "legend = ax2.legend(loc='lower center')\n",
    "plt.show()\n"
   ]
  },
  {
   "cell_type": "markdown",
   "metadata": {},
   "source": [
    "### Boosting"
   ]
  },
  {
   "cell_type": "markdown",
   "metadata": {},
   "source": [
    "<div class=\" alert alert-info\">\n",
    "Here we repeat the same procedure with the same data set using Adaboost-classifier, which uses decision tree stumps as a weak classifier.\n",
    "</div>"
   ]
  },
  {
   "cell_type": "code",
   "execution_count": 7,
   "metadata": {},
   "outputs": [
    {
     "data": {
      "image/png": "[encoded data removed]",
      "text/plain": [
       "<Figure size 432x288 with 1 Axes>"
      ]
     },
     "metadata": {
      "needs_background": "light"
     },
     "output_type": "display_data"
    }
   ],
   "source": [
    "#import libraries\n",
    "from sklearn.ensemble import AdaBoostClassifier\n",
    "\n",
    "#Initialize variables to store the number of laps and an array for storing accuracy values.\n",
    "learn_count = 0\n",
    "learning = np.zeros([20,2])\n",
    "\n",
    "#Test different number of weak classifiers from 1 to 20.\n",
    "for n_estim in range(1,21,1):   \n",
    "    \n",
    "    #Create AdaBoosClassifier object.\n",
    "    ada = AdaBoostClassifier(n_estimators=n_estim, random_state=0)\n",
    "\n",
    "    count = 0\n",
    "    accuracies = np.zeros([5,2])\n",
    "\n",
    "    #Fit model and predict the outcome\n",
    "    for train_index, test_index in skf.split(X, y):\n",
    "    \n",
    "        X_train, X_test = X[train_index], X[test_index]\n",
    "        y_train, y_test = y[train_index], y[test_index]\n",
    "    \n",
    "        #Fit it with X and y.\n",
    "        ada.fit(X_train,y_train)\n",
    "\n",
    "        #Calculate training and testing accuracies\n",
    "        train_acc = ada.score(X_train, y_train)\n",
    "        test_acc  = ada.score(X_test, y_test)\n",
    "    \n",
    "        accuracies[count,0] = train_acc\n",
    "        accuracies[count,1] = test_acc\n",
    "    \n",
    "        count += 1\n",
    "        \n",
    "    mean_acc = np.mean(accuracies,axis=0)\n",
    "    #print(np.mean(accuracies,axis=0))\n",
    "    \n",
    "    learning[learn_count,:] = mean_acc\n",
    "    learn_count += 1  \n",
    "    \n",
    "fig3,ax3 = plt.subplots()\n",
    "\n",
    "ax3.plot(range(1,21,1),learning[:,0],'bo-', label = 'train_acc')\n",
    "ax3.plot(range(1,21,1),learning[:,1],'yo-', label = 'test_acc')\n",
    "legend = ax3.legend(loc='lower center')\n",
    "plt.show()"
   ]
  },
  {
   "cell_type": "markdown",
   "metadata": {},
   "source": [
    "## Problems"
   ]
  },
  {
   "cell_type": "markdown",
   "metadata": {},
   "source": [
    "<div class=\" alert alert-warning\"> \n",
    "    <b>Problem 2.1.</b> \n",
    "\n",
    "Experiment the behaviour of bagging and adaboost on an artificial data set. Plot learning curves as a function of studied parameter. In order to make comparison easier you can try to plot the training curves of both classifiers in one plot and the testing curves in another.\n",
    "    \n",
    "1. Test different number of samples in the training set (between 500 and 10000 with step size 1000).\n",
    "\n",
    "2. How the different outcomes of classifiers can be explained?\n",
    "\n",
    "You may also try other changes in data set. Like how increasing the number of features or number of informative features affects.\n",
    "\n",
    "</div>"
   ]
  },
  {
   "cell_type": "code",
   "execution_count": 18,
   "metadata": {},
   "outputs": [
    {
     "name": "stdout",
     "output_type": "stream",
     "text": [
      "[]\n",
      "[]\n",
      "[]\n",
      "[]\n",
      "[]\n",
      "0.87\n"
     ]
    },
    {
     "name": "stderr",
     "output_type": "stream",
     "text": [
      "/opt/anaconda3/envs/PyTorch/lib/python3.7/site-packages/numpy/core/fromnumeric.py:3373: RuntimeWarning: Mean of empty slice.\n",
      "  out=out, **kwargs)\n",
      "/opt/anaconda3/envs/PyTorch/lib/python3.7/site-packages/numpy/core/_methods.py:170: RuntimeWarning: invalid value encountered in double_scalars\n",
      "  ret = ret.dtype.type(ret / rcount)\n"
     ]
    },
    {
     "name": "stdout",
     "output_type": "stream",
     "text": [
      "[]\n",
      "[]\n",
      "[]\n",
      "[]\n",
      "[]\n",
      "0.8933333333333333\n"
     ]
    },
    {
     "name": "stderr",
     "output_type": "stream",
     "text": [
      "/opt/anaconda3/envs/PyTorch/lib/python3.7/site-packages/numpy/core/fromnumeric.py:3373: RuntimeWarning: Mean of empty slice.\n",
      "  out=out, **kwargs)\n",
      "/opt/anaconda3/envs/PyTorch/lib/python3.7/site-packages/numpy/core/_methods.py:170: RuntimeWarning: invalid value encountered in double_scalars\n",
      "  ret = ret.dtype.type(ret / rcount)\n"
     ]
    },
    {
     "name": "stdout",
     "output_type": "stream",
     "text": [
      "[]\n",
      "[]\n",
      "[]\n",
      "[]\n",
      "[]\n",
      "0.848\n"
     ]
    },
    {
     "name": "stderr",
     "output_type": "stream",
     "text": [
      "/opt/anaconda3/envs/PyTorch/lib/python3.7/site-packages/numpy/core/fromnumeric.py:3373: RuntimeWarning: Mean of empty slice.\n",
      "  out=out, **kwargs)\n",
      "/opt/anaconda3/envs/PyTorch/lib/python3.7/site-packages/numpy/core/_methods.py:170: RuntimeWarning: invalid value encountered in double_scalars\n",
      "  ret = ret.dtype.type(ret / rcount)\n"
     ]
    },
    {
     "name": "stdout",
     "output_type": "stream",
     "text": [
      "[]\n",
      "[]\n",
      "[]\n",
      "[]\n",
      "[]\n",
      "0.9057142857142857\n"
     ]
    },
    {
     "name": "stderr",
     "output_type": "stream",
     "text": [
      "/opt/anaconda3/envs/PyTorch/lib/python3.7/site-packages/numpy/core/fromnumeric.py:3373: RuntimeWarning: Mean of empty slice.\n",
      "  out=out, **kwargs)\n",
      "/opt/anaconda3/envs/PyTorch/lib/python3.7/site-packages/numpy/core/_methods.py:170: RuntimeWarning: invalid value encountered in double_scalars\n",
      "  ret = ret.dtype.type(ret / rcount)\n"
     ]
    },
    {
     "name": "stdout",
     "output_type": "stream",
     "text": [
      "[]\n",
      "[]\n",
      "[]\n",
      "[]\n",
      "[]\n",
      "0.96\n"
     ]
    },
    {
     "name": "stderr",
     "output_type": "stream",
     "text": [
      "/opt/anaconda3/envs/PyTorch/lib/python3.7/site-packages/numpy/core/fromnumeric.py:3373: RuntimeWarning: Mean of empty slice.\n",
      "  out=out, **kwargs)\n",
      "/opt/anaconda3/envs/PyTorch/lib/python3.7/site-packages/numpy/core/_methods.py:170: RuntimeWarning: invalid value encountered in double_scalars\n",
      "  ret = ret.dtype.type(ret / rcount)\n"
     ]
    },
    {
     "name": "stdout",
     "output_type": "stream",
     "text": [
      "[]\n",
      "[]\n",
      "[]\n",
      "[]\n",
      "[]\n",
      "0.8963636363636364\n"
     ]
    },
    {
     "name": "stderr",
     "output_type": "stream",
     "text": [
      "/opt/anaconda3/envs/PyTorch/lib/python3.7/site-packages/numpy/core/fromnumeric.py:3373: RuntimeWarning: Mean of empty slice.\n",
      "  out=out, **kwargs)\n",
      "/opt/anaconda3/envs/PyTorch/lib/python3.7/site-packages/numpy/core/_methods.py:170: RuntimeWarning: invalid value encountered in double_scalars\n",
      "  ret = ret.dtype.type(ret / rcount)\n"
     ]
    },
    {
     "name": "stdout",
     "output_type": "stream",
     "text": [
      "[]\n",
      "[]\n",
      "[]\n",
      "[]\n",
      "[]\n",
      "0.8207692307692308\n"
     ]
    },
    {
     "name": "stderr",
     "output_type": "stream",
     "text": [
      "/opt/anaconda3/envs/PyTorch/lib/python3.7/site-packages/numpy/core/fromnumeric.py:3373: RuntimeWarning: Mean of empty slice.\n",
      "  out=out, **kwargs)\n",
      "/opt/anaconda3/envs/PyTorch/lib/python3.7/site-packages/numpy/core/_methods.py:170: RuntimeWarning: invalid value encountered in double_scalars\n",
      "  ret = ret.dtype.type(ret / rcount)\n"
     ]
    },
    {
     "name": "stdout",
     "output_type": "stream",
     "text": [
      "[]\n",
      "[]\n",
      "[]\n",
      "[]\n",
      "[]\n",
      "0.8953333333333333\n"
     ]
    },
    {
     "name": "stderr",
     "output_type": "stream",
     "text": [
      "/opt/anaconda3/envs/PyTorch/lib/python3.7/site-packages/numpy/core/fromnumeric.py:3373: RuntimeWarning: Mean of empty slice.\n",
      "  out=out, **kwargs)\n",
      "/opt/anaconda3/envs/PyTorch/lib/python3.7/site-packages/numpy/core/_methods.py:170: RuntimeWarning: invalid value encountered in double_scalars\n",
      "  ret = ret.dtype.type(ret / rcount)\n"
     ]
    },
    {
     "name": "stdout",
     "output_type": "stream",
     "text": [
      "[]\n",
      "[]\n",
      "[]\n",
      "[]\n",
      "[]\n",
      "0.8917647058823529\n"
     ]
    },
    {
     "name": "stderr",
     "output_type": "stream",
     "text": [
      "/opt/anaconda3/envs/PyTorch/lib/python3.7/site-packages/numpy/core/fromnumeric.py:3373: RuntimeWarning: Mean of empty slice.\n",
      "  out=out, **kwargs)\n",
      "/opt/anaconda3/envs/PyTorch/lib/python3.7/site-packages/numpy/core/_methods.py:170: RuntimeWarning: invalid value encountered in double_scalars\n",
      "  ret = ret.dtype.type(ret / rcount)\n"
     ]
    },
    {
     "name": "stdout",
     "output_type": "stream",
     "text": [
      "[]\n",
      "[]\n",
      "[]\n",
      "[]\n",
      "[]\n",
      "0.8426315789473684\n",
      "(0,)\n",
      "(0,)\n"
     ]
    },
    {
     "name": "stderr",
     "output_type": "stream",
     "text": [
      "/opt/anaconda3/envs/PyTorch/lib/python3.7/site-packages/numpy/core/fromnumeric.py:3373: RuntimeWarning: Mean of empty slice.\n",
      "  out=out, **kwargs)\n",
      "/opt/anaconda3/envs/PyTorch/lib/python3.7/site-packages/numpy/core/_methods.py:170: RuntimeWarning: invalid value encountered in double_scalars\n",
      "  ret = ret.dtype.type(ret / rcount)\n"
     ]
    },
    {
     "data": {
      "text/plain": [
       "[<matplotlib.lines.Line2D at 0x7f893e5be190>]"
      ]
     },
     "execution_count": 18,
     "metadata": {},
     "output_type": "execute_result"
    },
    {
     "data": {
      "image/png": "[encoded data removed]",
      "text/plain": [
       "<Figure size 1440x360 with 1 Axes>"
      ]
     },
     "metadata": {
      "needs_background": "light"
     },
     "output_type": "display_data"
    }
   ],
   "source": [
    "from sklearn.datasets import make_classification\n",
    "\n",
    "#To create artificial data set use make_classification function with following parameters.\n",
    "\n",
    "#X_art, y_art = make_classification(n_samples=changing number of samples, n_features=4,\n",
    "                          # n_informative=2, n_redundant=0,\n",
    "                           #random_state=0, shuffle=False)\n",
    "        \n",
    "#Use classifiers with following parameters:\n",
    "#BaggingClassifier(base_estimator=GaussianNB(), n_estimators=100, random_state=0)\n",
    "#AdaBoostClassifier(n_estimators=100, random_state=0)\n",
    "#Use StratifiedKFold() as in the tutorial section.\n",
    "\n",
    "\n",
    "#Add your code here.\n",
    "\n",
    "from sklearn.ensemble import AdaBoostClassifier\n",
    "\n",
    "#Initialize variables to store the number of laps and an array for storing accuracy values.\n",
    "learn_count = 0\n",
    "learning = np.zeros([20,2])\n",
    "big_ada_acc_test=np.zeros(0)\n",
    "big_ada_acc_train=np.zeros(0)\n",
    "big_bag_acc_train=np.zeros(0)\n",
    "big_bag_acc_test=np.zeros(0)\n",
    "ox=np.zeros(0)\n",
    "for dataS in range(500,10000,1000):\n",
    "    X_art, y_art = make_classification(n_samples=dataS, n_features=4,\n",
    "                           n_informative=2, n_redundant=0,\n",
    "                           random_state=0, shuffle=False)\n",
    "    #Test different number of weak classifiers from 1 to 20.\n",
    "\n",
    "    bag=BaggingClassifier(base_estimator=GaussianNB(), n_estimators=100, random_state=0)\n",
    "    #Create AdaBoosClassifier object.\n",
    "    ada = AdaBoostClassifier(n_estimators=n_estim, random_state=0)\n",
    "\n",
    "    count = 0\n",
    "    ada_accuracies_train = np.zeros(0)\n",
    "    ada_accuracies_test = np.zeros(0)\n",
    "    bag_accuracies_train=np.zeros(0)\n",
    "    bag_accuracies_test=np.zeros(0)\n",
    "    nr_samples=np.zeros(0)\n",
    "    \n",
    " \n",
    "    #Fit model and predict the outcome\n",
    "    for train_index, test_index in skf.split(X_art, y_art):\n",
    "\n",
    "        X_train, X_test = X_art[train_index], X_art[test_index]\n",
    "        y_train, y_test = y_art[train_index], y_art[test_index]\n",
    "\n",
    "        #Fit it with X and y.\n",
    "        ada.fit(X_train,y_train)\n",
    "        bag.fit(X_train,y_train)\n",
    "        #Calculate training and testing accuracies\n",
    "        ada_train_acc = ada.score(X_train, y_train)\n",
    "        ada_test_acc  = ada.score(X_test, y_test)\n",
    "        bag_train_acc = bag.score(X_train, y_train)\n",
    "        bag_test_acc  = bag.score(X_test, y_test)\n",
    "        np.append(ada_accuracies_train,ada_train_acc)\n",
    "        np.append(ada_accuracies_test,ada_test_acc)\n",
    "        np.append(bag_accuracies_train,bag_train_acc)\n",
    "        np.append(bag_accuracies_test,bag_test_acc)\n",
    "        print(bag_accuracies_train)\n",
    "        count += 1\n",
    "        \n",
    "    print(bag_test_acc)\n",
    "    np.append(big_ada_acc_train,np.mean(ada_accuracies_train))\n",
    "    np.append(big_ada_acc_test,np.mean(ada_accuracies_test))\n",
    "    np.append(big_bag_acc_train,np.mean(bag_accuracies_train))\n",
    "    np.append(big_bag_acc_test,np.mean(bag_accuracies_test))\n",
    "    mean_acc = np.mean(accuracies,axis=0)\n",
    "    np.append(ox,dataS)\n",
    "#     print(big_ada_acc_train)\n",
    "    #print(np.mean(accuracies,axis=0))\n",
    "\n",
    "#     learning[learn_count,:] = mean_acc\n",
    "#     learn_count += 1  \n",
    "\n",
    "f = plt.figure(figsize=(20,5))\n",
    "print(ox.shape)\n",
    "print(big_ada_acc_train.shape)\n",
    "f.add_subplot(1, 2, 1)\n",
    "plt.plot(ox,big_ada_acc_train,'r')\n",
    "plt.plot(ox,big_bag_acc_train,'b')\n",
    "\n",
    "# f.add_subplot(1, 2, 2)\n",
    "# mu_s = np.reshape(mu_s, ((-1,1)))\n",
    "# plt.plot(z)\n",
    "# plt.plot(mu_s, 'r')\n",
    "# plt.show()\n",
    "# fig3,ax3 = plt.subplots()\n",
    "# fig3.add_subplot(2,0,1)\n",
    "# ax3.plot(range(1,21,1),learning[:,0],'bo-', label = 'train_acc')\n",
    "# ax3.plot(range(1,21,1),learning[:,1],'yo-', label = 'test_acc')\n",
    "# legend = ax3.legend(loc='lower center')\n",
    "# plt.show()"
   ]
  },
  {
   "cell_type": "markdown",
   "metadata": {},
   "source": [
    "# 3. Classifier combination strategies, diversity techniques"
   ]
  },
  {
   "cell_type": "markdown",
   "metadata": {},
   "source": [
    "## Tutorial"
   ]
  },
  {
   "cell_type": "markdown",
   "metadata": {},
   "source": [
    "<div class=\" alert alert-info\">\n",
    "In this part we will use three different classifiers as base classifiers: Naive Bayes, Support Vector Machines and Adaboost. Below the needed classifier objects are created and fitted with training data. \n",
    "</div>"
   ]
  },
  {
   "cell_type": "markdown",
   "metadata": {},
   "source": [
    "## Base classifiers"
   ]
  },
  {
   "cell_type": "code",
   "execution_count": null,
   "metadata": {},
   "outputs": [],
   "source": [
    "#import needed functions from libraries\n",
    "from sklearn.datasets import make_classification\n",
    "from sklearn.naive_bayes import GaussianNB\n",
    "from sklearn.svm import SVC\n",
    "from sklearn.ensemble import AdaBoostClassifier\n",
    "from sklearn.model_selection import train_test_split\n",
    "\n",
    "#Create an artificial dataset of 1000 samples with 9 features of which 6 separates them into 3 different classes.\n",
    "X, y = make_classification(n_samples=1200, n_features=9,\n",
    "                           n_informative=6, n_redundant=0, \n",
    "                           n_classes=3,random_state=0, \n",
    "                           shuffle=False)\n",
    "\n",
    "\n",
    "#Divide the data into training set and test set (the last sample of the whole data set).\n",
    "#Each classifier will get its own subset of features.\n",
    "X_train, X_test, y_train, y_test = train_test_split(X, y, test_size=0.2, random_state=0)\n",
    "X1 = X_train[:,0:3]\n",
    "X2 = X_train[:,3:6]\n",
    "X3 = X_train[:,6:9]\n",
    "\n",
    "xtest1 = X_test[:,0:3]\n",
    "xtest2 = X_test[:,3:6]\n",
    "xtest3 = X_test[:,6:9]\n",
    "\n",
    "#Create GaussianNB() classifier object and train it wirh train set X1\n",
    "gnb = GaussianNB()\n",
    "gnb = gnb.fit(X1, y_train)\n",
    "\n",
    "#Create support vector machine classifier object SVC() with a parameter probability = True.\n",
    "#and train it with train set X2.\n",
    "svc = SVC(probability=True)\n",
    "svc = svc.fit(X2, y_train)\n",
    "\n",
    "#Create AdaBoostClassifier() object. Set parameters n_estimators=100 and random_state=0.\n",
    "#and train it with train set X3\n",
    "ada = AdaBoostClassifier(n_estimators=100, random_state=0)\n",
    "ada = ada.fit(X3, y_train)"
   ]
  },
  {
   "cell_type": "markdown",
   "metadata": {},
   "source": [
    "## Simple combination rules"
   ]
  },
  {
   "cell_type": "markdown",
   "metadata": {},
   "source": [
    "<div class=\" alert alert-info\">\n",
    "Below we combine the three trained classifiers by using different simple combinaton rules.\n",
    "</div>"
   ]
  },
  {
   "cell_type": "code",
   "execution_count": null,
   "metadata": {},
   "outputs": [],
   "source": [
    "from sklearn.metrics import accuracy_score\n",
    "\n",
    "### naive Bayes ###\n",
    "\n",
    "#Predict class label for xtest1.\n",
    "ypred1 = gnb.predict(xtest1)\n",
    "\n",
    "#Calculate the probabilities for the sample to belong to each of three classes. \n",
    "yprob1 = gnb.predict_proba(xtest1)\n",
    "\n",
    "\n",
    "### Support vector machine ###\n",
    "\n",
    "#Predict class label for xtest2.\n",
    "ypred2 = svc.predict(xtest2)\n",
    "\n",
    "#Calculate the probabilities for the sample to belong to each of three classes.\n",
    "yprob2 = svc.predict_proba(xtest2)\n",
    "\n",
    "#Calculate confidence scores for the sample. (The distance from a decision boundary for each class.)\n",
    "ybelief2 = svc.decision_function(xtest2)\n",
    "\n",
    "\n",
    "### AdaBoost ###\n",
    "\n",
    "#Predict class label for xtest3.\n",
    "ypred3 = ada.predict(xtest3)\n",
    "\n",
    "#Calculate the probabilities for the sample to belong to each of three classes.\n",
    "yprob3 = ada.predict_proba(xtest3)\n",
    "\n",
    "#Calculate confidence scores for the sample. (The weighted importance of base classifiers that predict the class in question.)\n",
    "ybelief3 = ada.decision_function(xtest3)\n",
    "\n",
    "#Calculate training accuracies for each classifier.\n",
    "#GaussianNB\n",
    "w1 = gnb.score(X1, y_train)\n",
    "\n",
    "#Support vector classifier\n",
    "w2 = svc.score(X2, y_train)\n",
    "\n",
    "#Adaboost classifier\n",
    "w3 = ada.score(X3, y_train)\n",
    "\n",
    "\n",
    "#Create weight vector according to training accuracies.\n",
    "weights = np.array((w1, w2, w3))\n",
    "\n",
    "#Create labels matrix, in which one is marked according to the predicted label of each classifier.\n",
    "labels = np.zeros((3, np.max(y_train)+1,len(y_test)))\n",
    "for count in range(len(y_test)):\n",
    "    labels[0, ypred1[count],count] = 1\n",
    "    labels[1, ypred2[count],count] = 1\n",
    "    labels[2, ypred3[count],count] = 1\n",
    "\n",
    "\n",
    "#Create posterior scores array\n",
    "posterior_scores = np.array((yprob1, yprob2, yprob3))\n",
    "\n",
    "#Create measurement scores array\n",
    "measurement_scores = np.array((yprob1, ybelief2, ybelief3))\n",
    "\n",
    "#Create rank array of posterior scores.\n",
    "rank = np.argsort(posterior_scores)\n",
    "\n",
    "#Give scores according to rank positions.\n",
    "rank_scores = np.zeros(rank.shape)\n",
    "\n",
    "for classifier in range(3):\n",
    "    for sample in range(len(y_test)):\n",
    "        count = 0\n",
    "        for classes in rank[classifier,sample]:#first class in a row gets the smallest score and last the highest score.\n",
    "            rank_scores[classifier,sample,classes] = count + 1\n",
    "            count +=1\n",
    "            \n",
    "#Weighted labels\n",
    "weighted_labels = np.zeros(labels.shape)\n",
    "for r in range(3):\n",
    "    weighted_labels[r,:,:] = weights[r]*labels[r,:,:]\n",
    "\n",
    "#Weighted posterior_scores\n",
    "weighted_scores = np.zeros(posterior_scores.shape)\n",
    "for r in range(3):\n",
    "    weighted_scores[r,:,:] = weights[r]*posterior_scores[r,:,:]\n",
    "\n",
    "#Calculate different combination metrics. \n",
    "test_acc = accuracy_score(y_test, np.argmax(np.sum(labels, axis=0),axis=0))\n",
    "print('Majority vote: ',test_acc)\n",
    "\n",
    "test_acc = accuracy_score(y_test, np.argmax(np.sum(rank_scores,axis=0),axis=1))\n",
    "print('Borda count: ', test_acc)\n",
    "\n",
    "test_acc =  accuracy_score(y_test, np.argmax(np.prod(posterior_scores,axis=0),axis=1))\n",
    "print('Prod: ', test_acc)\n",
    "\n",
    "test_acc = accuracy_score(y_test, np.argmax(np.mean(posterior_scores, axis=0),axis=1))\n",
    "print('Mean: ', test_acc)\n",
    "\n",
    "test_acc = accuracy_score(y_test, np.argmax(np.median(posterior_scores, axis=0),axis=1))\n",
    "print('Median: ', test_acc)\n",
    "\n",
    "test_acc = accuracy_score(y_test, np.argmax(np.max(posterior_scores, axis=0),axis=1))\n",
    "print('Max: ', test_acc)\n",
    "\n",
    "test_acc = accuracy_score(y_test, np.argmax(np.min(posterior_scores, axis=0),axis=1))\n",
    "print('Min: ', test_acc)\n",
    "\n",
    "test_acc = accuracy_score(y_test, np.argmax(np.sum(weighted_labels, axis=0),axis=0))\n",
    "print('Weighted majority vote: ',test_acc)\n",
    "\n",
    "test_acc = accuracy_score(y_test, np.argmax(np.mean(weighted_scores, axis=0),axis=1))\n",
    "print('Weighted mean: ',test_acc)\n",
    "\n",
    "test_acc = accuracy_score(y_test, np.argmax(np.mean(measurement_scores, axis=0),axis=1))\n",
    "print('Belief mean: ',test_acc)\n",
    "\n",
    "\n",
    "#Individual test accuracies for each classifier:\n",
    "print('Classifier 1', accuracy_score(y_test,ypred1))\n",
    "print('Classifier 2', accuracy_score(y_test,ypred2))\n",
    "print('Classifier 3', accuracy_score(y_test,ypred3))"
   ]
  },
  {
   "cell_type": "markdown",
   "metadata": {},
   "source": [
    "## Problems"
   ]
  },
  {
   "cell_type": "markdown",
   "metadata": {},
   "source": [
    "<div class=\" alert alert-warning\"> \n",
    "    <b>Problem 3.1.</b> \n",
    "\n",
    "Answer to the questions below.\n",
    "    \n",
    "1.Which combiner performed the best? What reasons may cause the differences between combiners? \n",
    "\n",
    "2.Calculate the Yule's Q for each of the three classifier pairs\n",
    "\n",
    "3.What can you tell about the diversity between different classifiers if using Yule's Q statistics?\n",
    "\n",
    "</div>"
   ]
  },
  {
   "cell_type": "code",
   "execution_count": null,
   "metadata": {},
   "outputs": [],
   "source": [
    "#Add your code here.\n",
    "\n"
   ]
  },
  {
   "cell_type": "markdown",
   "metadata": {},
   "source": [
    "## Meta-learners"
   ]
  },
  {
   "cell_type": "markdown",
   "metadata": {},
   "source": [
    "<div class=\" alert alert-warning\"> \n",
    "    <b>Problem 3.2.</b> \n",
    "    \n",
    "\n",
    "Train support vector meta classifier using the same data set and the same base classifiers. What is its accuracy?\n",
    "<b>Use the same test set for testing as in the previous part.</b>\n",
    "</div>"
   ]
  },
  {
   "cell_type": "code",
   "execution_count": null,
   "metadata": {},
   "outputs": [],
   "source": [
    "#Help:\n",
    "#Here you need three separate data sets.\n",
    "# One for training base classifiers.\n",
    "# Second for creating training set for metaclassifier. (The probabilities of base classifiers' predictions in this new data.)\n",
    "# Third for testing the accuracy in unseen data.\n",
    "\n",
    "#For doing the two first phases, you can use stratified K-fold and the same training set that was created in previous part.\n",
    "#For the last phase, use the same test set as in previous part.\n",
    "\n",
    "#To combine probabilities of the three classifiers in one set you can use command: np.concatenate((xp1, xp3, xp3), axis=1)\n",
    "#Where xp1 = the probabilities of classifier 1, xp2 = the probabilities of classifier 2, etc.\n",
    "\n",
    "\n",
    "### Meta-learning with svm ###\n",
    "\n",
    "#Initialize Support vector classifier without any input parmeters. This will be our Meta-classifier.\n",
    "svc_meta = SVC() \n",
    "   \n",
    "#Add your code here\n",
    "\n",
    "\n",
    "\n"
   ]
  }
 ],
 "metadata": {
  "celltoolbar": "Create Assignment",
  "kernelspec": {
   "display_name": "Python 3",
   "language": "python",
   "name": "python3"
  },
  "language_info": {
   "codemirror_mode": {
    "name": "ipython",
    "version": 3
   },
   "file_extension": ".py",
   "mimetype": "text/x-python",
   "name": "python",
   "nbconvert_exporter": "python",
   "pygments_lexer": "ipython3",
   "version": "3.7.8"
  },
  "varInspector": {
   "cols": {
    "lenName": 16,
    "lenType": 16,
    "lenVar": 40
   },
   "kernels_config": {
    "python": {
     "delete_cmd_postfix": "",
     "delete_cmd_prefix": "del ",
     "library": "var_list.py",
     "varRefreshCmd": "print(var_dic_list())"
    },
    "r": {
     "delete_cmd_postfix": ") ",
     "delete_cmd_prefix": "rm(",
     "library": "var_list.r",
     "varRefreshCmd": "cat(var_dic_list()) "
    }
   },
   "types_to_exclude": [
    "module",
    "function",
    "builtin_function_or_method",
    "instance",
    "_Feature"
   ],
   "window_display": false
  }
 },
 "nbformat": 4,
 "nbformat_minor": 4
}
