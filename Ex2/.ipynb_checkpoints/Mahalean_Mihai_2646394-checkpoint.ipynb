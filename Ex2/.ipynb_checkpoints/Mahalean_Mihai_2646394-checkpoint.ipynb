{
 "cells": [
  {
   "cell_type": "markdown",
   "metadata": {},
   "source": [
    "# Multi-Modal Data Fusion - Exercise 2: Common representational formats"
   ]
  },
  {
   "cell_type": "markdown",
   "metadata": {},
   "source": [
    "\n",
    "## Learning goals\n",
    "\n",
    "After this exercise, you should\n",
    "  \n",
    "- be able to implement PCA on your own and use it from sklearn\n",
    "- be able to implement LDA algorithm\n",
    "- be able to implement bootstrapping algorithm\n",
    "- know how to apply (Gradient) Boosting algorithm for classification problem\n",
    "\n",
    "\n",
    "\n",
    "## Relevant lecture\n",
    "\n",
    "Lecture 3.\n",
    "\n",
    "## Relevant chapters in course book\n",
    "\n",
    "Chapter 4.\n",
    "\n",
    "## Additional material\n",
    "\n",
    "- Scikit-learn https://scikit-learn.org/stable/\n",
    "- Pandas https://pandas.pydata.org/docs/\n",
    "- numpy https://numpy.org/doc/stable/"
   ]
  },
  {
   "cell_type": "code",
   "execution_count": null,
   "metadata": {},
   "outputs": [],
   "source": []
  },
  {
   "cell_type": "code",
   "execution_count": null,
   "metadata": {},
   "outputs": [],
   "source": []
  },
  {
   "cell_type": "code",
   "execution_count": null,
   "metadata": {},
   "outputs": [],
   "source": []
  },
  {
   "cell_type": "markdown",
   "metadata": {},
   "source": [
    "# Assignments"
   ]
  },
  {
   "cell_type": "markdown",
   "metadata": {},
   "source": [
    "<a id='Task1.1'></a>\n",
    "<div class=\" alert alert-warning\">\n",
    "    <b>Problem 1: Bootstrapping</b>\n",
    "\n",
    "<p>Implement bootstrapping (see Lecture 3) to the function stub below. You may assume that D is the dataset given as Python list. M is the number of resamples drawn. The function should return MxN matrix where each row contains one bootstrapped sample. \n",
    "    \n",
    "Use of numpy is recommended, especially size() and tile(). Try to use as few for loops as possible.</p>\n",
    "\n",
    "</div>"
   ]
  },
  {
   "cell_type": "code",
   "execution_count": 1,
   "metadata": {},
   "outputs": [],
   "source": [
    "from numpy import random as rd\n",
    "\n",
    "def bootstrap(D,M):\n",
    "    aux=[rd.choice(D,size=M,replace=True) for t in range(0,M)]\n",
    "    return aux"
   ]
  },
  {
   "cell_type": "markdown",
   "metadata": {},
   "source": [
    "Sample usage of the bootstrapping algorithm."
   ]
  },
  {
   "cell_type": "code",
   "execution_count": 2,
   "metadata": {},
   "outputs": [
    {
     "name": "stdout",
     "output_type": "stream",
     "text": [
      "[array([ 8,  7, 10]), array([ 4,  5, 10]), array([5, 1, 9])]\n"
     ]
    }
   ],
   "source": [
    "D = [1, 2, 3, 4, 5, 6, 7, 8, 9,10]\n",
    "print(bootstrap(D,3))"
   ]
  },
  {
   "cell_type": "code",
   "execution_count": null,
   "metadata": {},
   "outputs": [],
   "source": []
  },
  {
   "cell_type": "markdown",
   "metadata": {},
   "source": [
    "<a id='Task1.1'></a>\n",
    "<div class=\" alert alert-warning\">\n",
    "    <b>Problem 2: PCA</b>\n",
    "\n",
    "<p>Implement PCA algorithm as described in Lecture 3. Use data from pca_data.csv. Compute $\\mu$ and $\\Sigma$ as explained in lecture slides. Find eigenvalues and eigenvectors of $\\Sigma$. Pick the first principal component which corresponds to largest eigenvalue. Plot the data and first principal component in same figure. The line depicting the first principal component should start from mean $\\mu$ and end in $\\mu\\pm u_1$, where $u_1$ is the first principal component.</p>\n",
    "\n",
    "</div>"
   ]
  },
  {
   "cell_type": "code",
   "execution_count": 3,
   "metadata": {},
   "outputs": [
    {
     "name": "stdout",
     "output_type": "stream",
     "text": [
      "Sub is:            0         1\n",
      "0   0.172690  0.184710\n",
      "1   0.263759  0.386979\n",
      "2  -0.515046 -0.638687\n",
      "3   0.271343  0.380010\n",
      "4  -0.009674  0.014757\n",
      "5  -0.544493 -0.696874\n",
      "6  -0.363535 -0.491676\n",
      "7  -0.095152 -0.108973\n",
      "8   0.315474  0.387856\n",
      "9   0.322855  0.451143\n",
      "10 -0.484420 -0.688235\n",
      "11  0.328560  0.415806\n",
      "12  0.315134  0.374903\n",
      "13 -0.156658 -0.246479\n",
      "14  0.158247  0.244306\n",
      "15 -0.500147 -0.642819\n",
      "16 -0.220272 -0.308954\n",
      "17  0.273702  0.410292\n",
      "18  0.150174  0.154685\n",
      "19  0.317459  0.417248\n",
      "Means: 0    0.642033\n",
      "1    0.900708\n",
      "dtype: float64\n",
      "\n",
      "EIgenvalues: [0.00039878 0.29857288]\n",
      "Eigenvectors [[-0.79766233 -0.60310431]\n",
      " [ 0.60310431 -0.79766233]]\n",
      "\n",
      "THe component index: 1\n",
      "The component: [-0.60310431 -0.79766233]\n",
      "The right is  0    0.038929\n",
      "1    0.103046\n",
      "dtype: float64\n",
      "The left is  0    1.245138\n",
      "1    1.698370\n",
      "dtype: float64\n"
     ]
    },
    {
     "data": {
      "text/plain": [
       "<Figure size 640x480 with 1 Axes>"
      ]
     },
     "metadata": {},
     "output_type": "display_data"
    }
   ],
   "source": [
    "import pandas as pd\n",
    "import matplotlib.pyplot as plt\n",
    "import numpy as np\n",
    "from sklearn.linear_model import LogisticRegression\n",
    "df = pd.read_csv('pca_data.csv',header=None)\n",
    "means=np.mean(df.iloc[:,0:2])\n",
    "sub=df.iloc[:,0:2]-means\n",
    "print(\"Sub is:\",sub)\n",
    "square=np.cov(np.transpose(sub))\n",
    "eigs,eigV=np.linalg.eig(square)\n",
    "\n",
    "\n",
    "print(\"Means:\",means)\n",
    "print()\n",
    "print(\"EIgenvalues:\",eigs)\n",
    "print(\"Eigenvectors\",eigV)\n",
    "print()\n",
    "\n",
    "\n",
    "plt.plot(df.iloc[:,0],df.iloc[:,1],'bo')\n",
    "\n",
    "maxPca=np.argmax(eigs)\n",
    "print(\"THe component index:\",maxPca)\n",
    "component=eigV[:,maxPca]\n",
    "print(\"The component:\",component)\n",
    "start=means\n",
    "rightEnd=means+component\n",
    "leftEnd=means-component\n",
    "print(\"The right is \",rightEnd  )\n",
    "print(\"The left is \",leftEnd  )\n",
    "\n",
    "plt.plot([start[0],rightEnd[0]],[start[1],rightEnd[1]],c=\"red\",linewidth=4)\n",
    "plt.plot([start[0],leftEnd[0]],[start[1],leftEnd[1]],c=\"red\",linewidth=4)\n",
    "\n",
    "plt.show()\n"
   ]
  },
  {
   "cell_type": "code",
   "execution_count": null,
   "metadata": {},
   "outputs": [],
   "source": []
  },
  {
   "cell_type": "markdown",
   "metadata": {},
   "source": [
    "<a id='Task1.1'></a>\n",
    "<div class=\" alert alert-warning\">\n",
    "    <b>Problem 3: PCA using sklearn</b>\n",
    "\n",
    "<p>Consult documentation of sklearn on how to perform PCA using sklearn. Perform PCA using sklearn on same dataset as in Problem 2. Pick the model and train it (fit it) using same data as above. Do you get the same results? If not, what might be a reason for it?</p>\n",
    "\n",
    "</div>"
   ]
  },
  {
   "cell_type": "code",
   "execution_count": 4,
   "metadata": {},
   "outputs": [
    {
     "name": "stdout",
     "output_type": "stream",
     "text": [
      "[0.29857288 0.00039878]\n",
      "[[-0.60310431 -0.79766233]\n",
      " [-0.79766233  0.60310431]]\n",
      "[2.38178183 0.08704513]\n"
     ]
    }
   ],
   "source": [
    "from sklearn.decomposition import PCA\n",
    "\n",
    "pca = PCA(n_components=2)\n",
    "pca.fit(df.iloc[:,0:2])\n",
    "\n",
    "print(pca.explained_variance_)\n",
    "print(pca.components_)\n",
    "print(pca.singular_values_)"
   ]
  },
  {
   "cell_type": "code",
   "execution_count": 5,
   "metadata": {},
   "outputs": [
    {
     "name": "stdout",
     "output_type": "stream",
     "text": [
      "/bin/sh: 1: They: not found\n"
     ]
    }
   ],
   "source": [
    "! They are the same in this case"
   ]
  },
  {
   "cell_type": "markdown",
   "metadata": {},
   "source": [
    "<a id='Task1.1'></a>\n",
    "<div class=\" alert alert-warning\">\n",
    "    <b>Problem 4: LDA</b>\n",
    "\n",
    "<p>Implement LDA algorithm as described in Lecture 3. Use data from lda_data.csv. The data consists of x coordinate, y coordinate and class label (0 or 1). Compute the quantities appearing in lecture slides. The LDA projection operator $U$ consists of single column which is the eigenvector of $H$ corresponding to the largest eigenvalue. Plot the data and the LDA subspace (line) in same figure. The line depicting the LDA subspace should start from mean $\\mu_G$ and end in $\\mu_G\\pm u$, where $u$ is the direction of LDA subspace.</p>\n",
    "\n",
    "</div>"
   ]
  },
  {
   "cell_type": "code",
   "execution_count": 6,
   "metadata": {},
   "outputs": [
    {
     "name": "stdout",
     "output_type": "stream",
     "text": [
      "Welcome to my cazan de tuica!\n",
      "Sizes of c1 and c2 (8, 3) (9, 3)\n",
      "[[0.28019462]\n",
      " [0.10823663]] [[1.29588889]\n",
      " [0.21094267]]\n"
     ]
    },
    {
     "ename": "NameError",
     "evalue": "name 'mean_0' is not defined",
     "output_type": "error",
     "traceback": [
      "\u001b[0;31m---------------------------------------------------------------------------\u001b[0m",
      "\u001b[0;31mNameError\u001b[0m                                 Traceback (most recent call last)",
      "\u001b[0;32m<ipython-input-6-3ab56a1dbe8e>\u001b[0m in \u001b[0;36m<module>\u001b[0;34m()\u001b[0m\n\u001b[1;32m     18\u001b[0m \u001b[0;34m\u001b[0m\u001b[0m\n\u001b[1;32m     19\u001b[0m \u001b[0mcov_W\u001b[0m \u001b[0;34m=\u001b[0m \u001b[0;34m(\u001b[0m\u001b[0;36m1\u001b[0m \u001b[0;34m/\u001b[0m \u001b[0mN\u001b[0m\u001b[0;34m)\u001b[0m \u001b[0;34m*\u001b[0m \u001b[0;34m(\u001b[0m\u001b[0mlen\u001b[0m\u001b[0;34m(\u001b[0m\u001b[0mc1\u001b[0m\u001b[0;34m)\u001b[0m \u001b[0;34m*\u001b[0m \u001b[0mcov1\u001b[0m \u001b[0;34m+\u001b[0m \u001b[0mlen\u001b[0m\u001b[0;34m(\u001b[0m\u001b[0mc2\u001b[0m\u001b[0;34m)\u001b[0m \u001b[0;34m*\u001b[0m \u001b[0mcov2\u001b[0m\u001b[0;34m)\u001b[0m\u001b[0;34m\u001b[0m\u001b[0;34m\u001b[0m\u001b[0m\n\u001b[0;32m---> 20\u001b[0;31m \u001b[0mcov_B\u001b[0m \u001b[0;34m=\u001b[0m \u001b[0;34m(\u001b[0m\u001b[0;36m1\u001b[0m \u001b[0;34m/\u001b[0m \u001b[0mN\u001b[0m\u001b[0;34m)\u001b[0m \u001b[0;34m*\u001b[0m \u001b[0;34m(\u001b[0m\u001b[0mlen\u001b[0m\u001b[0;34m(\u001b[0m\u001b[0mc1\u001b[0m\u001b[0;34m)\u001b[0m \u001b[0;34m*\u001b[0m \u001b[0mnp\u001b[0m\u001b[0;34m.\u001b[0m\u001b[0mdot\u001b[0m\u001b[0;34m(\u001b[0m\u001b[0;34m(\u001b[0m\u001b[0mmean1\u001b[0m \u001b[0;34m-\u001b[0m \u001b[0mmean_g\u001b[0m\u001b[0;34m)\u001b[0m\u001b[0;34m,\u001b[0m \u001b[0mnp\u001b[0m\u001b[0;34m.\u001b[0m\u001b[0mtranspose\u001b[0m\u001b[0;34m(\u001b[0m\u001b[0mmean_0\u001b[0m \u001b[0;34m-\u001b[0m \u001b[0mmean_g\u001b[0m\u001b[0;34m)\u001b[0m\u001b[0;34m)\u001b[0m \u001b[0;34m+\u001b[0m \u001b[0mlen\u001b[0m\u001b[0;34m(\u001b[0m\u001b[0mc2\u001b[0m\u001b[0;34m)\u001b[0m \u001b[0;34m*\u001b[0m \u001b[0mnp\u001b[0m\u001b[0;34m.\u001b[0m\u001b[0mdot\u001b[0m\u001b[0;34m(\u001b[0m\u001b[0;34m(\u001b[0m\u001b[0mmean2\u001b[0m \u001b[0;34m-\u001b[0m \u001b[0mmean_g\u001b[0m\u001b[0;34m)\u001b[0m\u001b[0;34m,\u001b[0m \u001b[0mnp\u001b[0m\u001b[0;34m.\u001b[0m\u001b[0mtranspose\u001b[0m\u001b[0;34m(\u001b[0m\u001b[0mmean2\u001b[0m \u001b[0;34m-\u001b[0m \u001b[0mmean_g\u001b[0m\u001b[0;34m)\u001b[0m\u001b[0;34m)\u001b[0m\u001b[0;34m)\u001b[0m\u001b[0;34m\u001b[0m\u001b[0;34m\u001b[0m\u001b[0m\n\u001b[0m\u001b[1;32m     21\u001b[0m \u001b[0mprint\u001b[0m\u001b[0;34m(\u001b[0m\u001b[0;34m\"cov_W shape\"\u001b[0m\u001b[0;34m,\u001b[0m\u001b[0mcov_W\u001b[0m\u001b[0;34m.\u001b[0m\u001b[0mshape\u001b[0m\u001b[0;34m)\u001b[0m\u001b[0;34m\u001b[0m\u001b[0;34m\u001b[0m\u001b[0m\n\u001b[1;32m     22\u001b[0m \u001b[0mprint\u001b[0m\u001b[0;34m(\u001b[0m\u001b[0;34m\"cov_B shape\"\u001b[0m\u001b[0;34m,\u001b[0m\u001b[0mcov_B\u001b[0m\u001b[0;34m.\u001b[0m\u001b[0mshape\u001b[0m\u001b[0;34m)\u001b[0m\u001b[0;34m\u001b[0m\u001b[0;34m\u001b[0m\u001b[0m\n",
      "\u001b[0;31mNameError\u001b[0m: name 'mean_0' is not defined"
     ]
    }
   ],
   "source": [
    "\n",
    "print(\"Welcome to my cazan de tuica!\")\n",
    "# TODO here\n",
    "df = pd.read_csv('lda_data.csv', header=None)\n",
    "c1 = df.loc[df[2] == 0]\n",
    "c2 = df.loc[df[2] == 1]\n",
    "\n",
    "cov1 = np.cov(c1.iloc[:, 0:2], bias=True, rowvar=False)\n",
    "cov2 = np.cov(c2.iloc[:, 0:2], bias=True, rowvar=False)\n",
    "mean1 = np.mean(c1)\n",
    "mean2 = np.mean(c2)\n",
    "print(\"Sizes of c1 and c2\",c1.shape,c2.shape)\n",
    "mean1 = np.array([mean1[0], mean1[1]]).reshape(2,1)\n",
    "mean2 = np.array([mean2[0], mean2[1]]).reshape(2,1)\n",
    "print(mean1,mean2)\n",
    "N = len(df)\n",
    "mean_g = (1 / N) * (len(c1) * mean1 + len(c2) * mean2)\n",
    "\n",
    "cov_W = (1 / N) * (len(c1) * cov1 + len(c2) * cov2)\n",
    "cov_B = (1 / N) * (len(c1) * np.dot((mean1 - mean_g), np.transpose(mean_0 - mean_g)) + len(c2) * np.dot((mean2 - mean_g), np.transpose(mean2 - mean_g)))\n",
    "print(\"cov_W shape\",cov_W.shape)\n",
    "print(\"cov_B shape\",cov_B.shape)\n",
    "\n",
    "H = np.dot(np.linalg.inv(cov_W), cov_B)\n",
    "eigValues, eigVectors = np.linalg.eig(H)\n",
    "print(\"EIgenvalues:\",w)\n",
    "print(\"Eigenvectors\",v)\n",
    "idx = eigValues.argsort()[::-1]\n",
    "maxValue = eigValues[idx]\n",
    "maxEigen = eigVectors[:, idx]\n",
    "print(\"Max eigenvector\",v)\n",
    "p1 = mean_g + maxEigen[0].reshape(2,1)\n",
    "p2 = mean_g - maxEigen[0].reshape(2,1)\n",
    "\n",
    "plt.scatter(c1.iloc[:,0], cls_0.iloc[:,1])\n",
    "plt.scatter(c2.iloc[:,0], c2.iloc[:,1])\n",
    "\n",
    "\n",
    "plt.plot([mean_g[0], p1[0]], [mean_g[1], p2[1]], c='red')\n",
    "plt.plot([mean_g[0], p2[0]], [mean_g[1], p1[1]], c='red')\n"
   ]
  },
  {
   "cell_type": "code",
   "execution_count": null,
   "metadata": {},
   "outputs": [],
   "source": []
  },
  {
   "cell_type": "markdown",
   "metadata": {},
   "source": [
    "<a id='Task1.1'></a>\n",
    "<div class=\" alert alert-warning\">\n",
    "    <b>Problem 5: Boosting</b>\n",
    "\n",
    "<p>Use the tab-separated(!) file wifi_localization.txt. The data allows to determine indoor room location from wifi signal strenghts. Last column of the file contains class labels of rooms while the first seven columns contains signal strengths of mobile phones. Split the dataset into training (70%), validation (15%) and testing sets (15%). Train GradientBoostingClassifier from sklearn using n_estimators between 1-40. Consult documentation of sklearn (or Google) on how to do this. Compute the validation score on validation set using score(). Plot scores against n. Pick the value for n giving highest score and train the model using training data. For that n,  plot confusion matrix for testing set.</p>\n",
    "\n",
    "</div>"
   ]
  },
  {
   "cell_type": "code",
   "execution_count": 9,
   "metadata": {},
   "outputs": [
    {
     "name": "stdout",
     "output_type": "stream",
     "text": [
      "(1400, 7)\n",
      "(300, 7)\n",
      "(300, 7)\n",
      "Best n: 4\n"
     ]
    },
    {
     "data": {
      "image/png": "[encoded data removed]",
      "text/plain": [
       "<Figure size 432x288 with 1 Axes>"
      ]
     },
     "metadata": {
      "needs_background": "light"
     },
     "output_type": "display_data"
    },
    {
     "data": {
      "image/png": "[encoded data removed]",
      "text/plain": [
       "<Figure size 432x288 with 2 Axes>"
      ]
     },
     "metadata": {
      "needs_background": "light"
     },
     "output_type": "display_data"
    }
   ],
   "source": [
    "df = pd.read_csv('wifi_localization.txt',header=None,sep='\\t')\n",
    "from sklearn.model_selection import train_test_split\n",
    "from sklearn.ensemble import GradientBoostingClassifier\n",
    "X=df.iloc[:,0:7]\n",
    "y=df.iloc[:,7]\n",
    "X_train, X_aux, y_train, y_aux = train_test_split(X,y,test_size=0.30,random_state=0)\n",
    "X_validation,X_test,y_validation, y_test=train_test_split(X_aux,y_aux,test_size=0.50,random_state=0)\n",
    "print(X_train.shape)\n",
    "print(X_validation.shape)\n",
    "print(X_test.shape)\n",
    "bestEst=0\n",
    "bestScore=0\n",
    "for E in range(1,41):\n",
    "    clf = GradientBoostingClassifier(random_state=0,n_estimators=E)\n",
    "    clf.fit(X_train, y_train)\n",
    "    CScore=clf.score(X_validation, y_validation)\n",
    "    if(CScore>bestScore):\n",
    "        bestScore=CScore\n",
    "        bestEst=E\n",
    "    plt.plot(E,CScore,'bo')\n",
    "clf = GradientBoostingClassifier(random_state=0,n_estimators=bestEst)\n",
    "clf.fit(X_train,y_train)\n",
    "from sklearn import metrics\n",
    "print(\"Best n:\",bestEst)\n",
    "# print(metrics.confusion_matrix(y_test,prediction))\n",
    "metrics.plot_confusion_matrix(clf, X_test, y_test)\n",
    "plt.show()\n",
    "    \n",
    " "
   ]
  },
  {
   "cell_type": "code",
   "execution_count": null,
   "metadata": {},
   "outputs": [],
   "source": []
  }
 ],
 "metadata": {
  "kernelspec": {
   "display_name": "Python 3",
   "language": "python",
   "name": "python3"
  },
  "language_info": {
   "codemirror_mode": {
    "name": "ipython",
    "version": 3
   },
   "file_extension": ".py",
   "mimetype": "text/x-python",
   "name": "python",
   "nbconvert_exporter": "python",
   "pygments_lexer": "ipython3",
   "version": "3.7.8"
  },
  "nbdime-conflicts": {
   "local_diff": [
    {
     "diff": [
      {
       "diff": [
        {
         "diff": [
          {
           "key": 4,
           "op": "addrange",
           "valuelist": "3"
          },
          {
           "key": 4,
           "length": 1,
           "op": "removerange"
          }
         ],
         "key": 0,
         "op": "patch"
        }
       ],
       "key": "version",
       "op": "patch"
      }
     ],
     "key": "language_info",
     "op": "patch"
    }
   ],
   "remote_diff": [
    {
     "diff": [
      {
       "diff": [
        {
         "diff": [
          {
           "key": 4,
           "op": "addrange",
           "valuelist": "4"
          },
          {
           "key": 4,
           "length": 1,
           "op": "removerange"
          }
         ],
         "key": 0,
         "op": "patch"
        }
       ],
       "key": "version",
       "op": "patch"
      }
     ],
     "key": "language_info",
     "op": "patch"
    }
   ]
  },
  "toc": {
   "base_numbering": 1,
   "nav_menu": {},
   "number_sections": false,
   "sideBar": true,
   "skip_h1_title": false,
   "title_cell": "Table of Contents",
   "title_sidebar": "Contents",
   "toc_cell": false,
   "toc_position": {
    "height": "507.275px",
    "left": "23.975px",
    "top": "145.5px",
    "width": "318px"
   },
   "toc_section_display": true,
   "toc_window_display": true
  },
  "varInspector": {
   "cols": {
    "lenName": 16,
    "lenType": 16,
    "lenVar": 40
   },
   "kernels_config": {
    "python": {
     "delete_cmd_postfix": "",
     "delete_cmd_prefix": "del ",
     "library": "var_list.py",
     "varRefreshCmd": "print(var_dic_list())"
    },
    "r": {
     "delete_cmd_postfix": ") ",
     "delete_cmd_prefix": "rm(",
     "library": "var_list.r",
     "varRefreshCmd": "cat(var_dic_list()) "
    }
   },
   "oldHeight": 194.85,
   "position": {
    "height": "216.85px",
    "left": "1417px",
    "right": "18px",
    "top": "126px",
    "width": "485px"
   },
   "types_to_exclude": [
    "module",
    "function",
    "builtin_function_or_method",
    "instance",
    "_Feature"
   ],
   "varInspector_section_display": "block",
   "window_display": true
  }
 },
 "nbformat": 4,
 "nbformat_minor": 4
}
