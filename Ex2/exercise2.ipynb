{
 "cells": [
  {
   "cell_type": "markdown",
   "metadata": {},
   "source": [
    "# Multi-Modal Data Fusion - Exercise 2: Common representational formats"
   ]
  },
  {
   "cell_type": "markdown",
   "metadata": {},
   "source": [
    "\n",
    "## Learning goals\n",
    "\n",
    "After this exercise, you should\n",
    "  \n",
    "- be able to implement PCA on your own and use it from sklearn\n",
    "- be able to implement LDA algorithm\n",
    "- be able to implement bootstrapping algorithm\n",
    "- know how to apply (Gradient) Boosting algorithm for classification problem\n",
    "\n",
    "\n",
    "\n",
    "## Relevant lecture\n",
    "\n",
    "Lecture 3.\n",
    "\n",
    "## Relevant chapters in course book\n",
    "\n",
    "Chapter 4.\n",
    "\n",
    "## Additional material\n",
    "\n",
    "- Scikit-learn https://scikit-learn.org/stable/\n",
    "- Pandas https://pandas.pydata.org/docs/\n",
    "- numpy https://numpy.org/doc/stable/"
   ]
  },
  {
   "cell_type": "code",
   "execution_count": null,
   "metadata": {},
   "outputs": [],
   "source": []
  },
  {
   "cell_type": "code",
   "execution_count": null,
   "metadata": {},
   "outputs": [],
   "source": []
  },
  {
   "cell_type": "code",
   "execution_count": null,
   "metadata": {},
   "outputs": [],
   "source": []
  },
  {
   "cell_type": "markdown",
   "metadata": {},
   "source": [
    "# Assignments"
   ]
  },
  {
   "cell_type": "markdown",
   "metadata": {},
   "source": [
    "<a id='Task1.1'></a>\n",
    "<div class=\" alert alert-warning\">\n",
    "    <b>Problem 1: Bootstrapping</b>\n",
    "\n",
    "<p>Implement bootstrapping (see Lecture 3) to the function stub below. You may assume that D is the dataset given as Python list. M is the number of resamples drawn. The function should return MxN matrix where each row contains one bootstrapped sample. \n",
    "    \n",
    "Use of numpy is recommended, especially size() and tile(). Try to use as few for loops as possible.</p>\n",
    "\n",
    "</div>"
   ]
  },
  {
   "cell_type": "code",
   "execution_count": 1,
   "metadata": {},
   "outputs": [],
   "source": [
    "from numpy import random as rd\n",
    "\n",
    "def bootstrap(D,M):\n",
    "    aux=[rd.choice(D,size=M,replace=True) for t in range(0,M)]\n",
    "    return aux"
   ]
  },
  {
   "cell_type": "markdown",
   "metadata": {},
   "source": [
    "Sample usage of the bootstrapping algorithm."
   ]
  },
  {
   "cell_type": "code",
   "execution_count": 2,
   "metadata": {},
   "outputs": [
    {
     "name": "stdout",
     "output_type": "stream",
     "text": [
      "[array([10, 10,  8]), array([1, 8, 4]), array([9, 7, 7])]\n"
     ]
    }
   ],
   "source": [
    "D = [1, 2, 3, 4, 5, 6, 7, 8, 9,10]\n",
    "print(bootstrap(D,3))"
   ]
  },
  {
   "cell_type": "code",
   "execution_count": null,
   "metadata": {},
   "outputs": [],
   "source": []
  },
  {
   "cell_type": "markdown",
   "metadata": {},
   "source": [
    "<a id='Task1.1'></a>\n",
    "<div class=\" alert alert-warning\">\n",
    "    <b>Problem 2: PCA</b>\n",
    "\n",
    "<p>Implement PCA algorithm as described in Lecture 3. Use data from pca_data.csv. Compute $\\mu$ and $\\Sigma$ as explained in lecture slides. Find eigenvalues and eigenvectors of $\\Sigma$. Pick the first principal component which corresponds to largest eigenvalue. Plot the data and first principal component in same figure. The line depicting the first principal component should start from mean $\\mu$ and end in $\\mu\\pm u_1$, where $u_1$ is the first principal component.</p>\n",
    "\n",
    "</div>"
   ]
  },
  {
   "cell_type": "code",
   "execution_count": 15,
   "metadata": {},
   "outputs": [
    {
     "name": "stdout",
     "output_type": "stream",
     "text": [
      "Sub is:            0         1\n",
      "0   0.172690  0.184710\n",
      "1   0.263759  0.386979\n",
      "2  -0.515046 -0.638687\n",
      "3   0.271343  0.380010\n",
      "4  -0.009674  0.014757\n",
      "5  -0.544493 -0.696874\n",
      "6  -0.363535 -0.491676\n",
      "7  -0.095152 -0.108973\n",
      "8   0.315474  0.387856\n",
      "9   0.322855  0.451143\n",
      "10 -0.484420 -0.688235\n",
      "11  0.328560  0.415806\n",
      "12  0.315134  0.374903\n",
      "13 -0.156658 -0.246479\n",
      "14  0.158247  0.244306\n",
      "15 -0.500147 -0.642819\n",
      "16 -0.220272 -0.308954\n",
      "17  0.273702  0.410292\n",
      "18  0.150174  0.154685\n",
      "19  0.317459  0.417248\n",
      "Means: 0    0.642033\n",
      "1    0.900708\n",
      "dtype: float64\n",
      "\n",
      "EIgenvalues: [0.00039878 0.29857288]\n",
      "Eigenvectors [[-0.79766233 -0.60310431]\n",
      " [ 0.60310431 -0.79766233]]\n",
      "\n",
      "THe component index: 1\n",
      "The component: [-0.60310431 -0.79766233]\n",
      "The right is  0    0.038929\n",
      "1    0.103046\n",
      "dtype: float64\n",
      "The left is  0    1.245138\n",
      "1    1.698370\n",
      "dtype: float64\n"
     ]
    },
    {
     "data": {
      "image/png": "[encoded data removed]",
      "text/plain": [
       "<Figure size 432x288 with 1 Axes>"
      ]
     },
     "metadata": {
      "needs_background": "light"
     },
     "output_type": "display_data"
    }
   ],
   "source": [
    "import pandas as pd\n",
    "import matplotlib.pyplot as plt\n",
    "import numpy as np\n",
    "from sklearn.linear_model import LogisticRegression\n",
    "df = pd.read_csv('pca_data.csv',header=None)\n",
    "means=np.mean(df.iloc[:,0:2])\n",
    "sub=df.iloc[:,0:2]-means\n",
    "print(\"Sub is:\",sub)\n",
    "square=np.cov(np.transpose(sub))\n",
    "eigs,eigV=np.linalg.eig(square)\n",
    "\n",
    "\n",
    "print(\"Means:\",means)\n",
    "print()\n",
    "print(\"EIgenvalues:\",eigs)\n",
    "print(\"Eigenvectors\",eigV)\n",
    "print()\n",
    "\n",
    "\n",
    "plt.plot(df.iloc[:,0],df.iloc[:,1],'bo')\n",
    "\n",
    "maxPca=np.argmax(eigs)\n",
    "print(\"THe component index:\",maxPca)\n",
    "component=eigV[:,maxPca]\n",
    "print(\"The component:\",component)\n",
    "start=means\n",
    "rightEnd=means+component\n",
    "leftEnd=means-component\n",
    "print(\"The right is \",rightEnd  )\n",
    "print(\"The left is \",leftEnd  )\n",
    "\n",
    "plt.plot([start[0],rightEnd[0]],[start[1],rightEnd[1]],c=\"red\",linewidth=4)\n",
    "plt.plot([start[0],leftEnd[0]],[start[1],leftEnd[1]],c=\"red\",linewidth=4)\n",
    "\n",
    "plt.show()\n"
   ]
  },
  {
   "cell_type": "code",
   "execution_count": null,
   "metadata": {},
   "outputs": [],
   "source": []
  },
  {
   "cell_type": "markdown",
   "metadata": {},
   "source": [
    "<a id='Task1.1'></a>\n",
    "<div class=\" alert alert-warning\">\n",
    "    <b>Problem 3: PCA using sklearn</b>\n",
    "\n",
    "<p>Consult documentation of sklearn on how to perform PCA using sklearn. Perform PCA using sklearn on same dataset as in Problem 2. Pick the model and train it (fit it) using same data as above. Do you get the same results? If not, what might be a reason for it?</p>\n",
    "\n",
    "</div>"
   ]
  },
  {
   "cell_type": "code",
   "execution_count": 4,
   "metadata": {},
   "outputs": [
    {
     "name": "stdout",
     "output_type": "stream",
     "text": [
      "[0.29857288 0.00039878]\n",
      "[[-0.60310431 -0.79766233]\n",
      " [-0.79766233  0.60310431]]\n",
      "[2.38178183 0.08704513]\n"
     ]
    }
   ],
   "source": [
    "from sklearn.decomposition import PCA\n",
    "\n",
    "pca = PCA(n_components=2)\n",
    "pca.fit(df.iloc[:,0:2])\n",
    "\n",
    "print(pca.explained_variance_)\n",
    "print(pca.components_)\n",
    "print(pca.singular_values_)"
   ]
  },
  {
   "cell_type": "code",
   "execution_count": 5,
   "metadata": {},
   "outputs": [
    {
     "name": "stdout",
     "output_type": "stream",
     "text": [
      "/bin/sh: 1: They: not found\n"
     ]
    }
   ],
   "source": [
    "! They are the same in this case"
   ]
  },
  {
   "cell_type": "markdown",
   "metadata": {},
   "source": [
    "<a id='Task1.1'></a>\n",
    "<div class=\" alert alert-warning\">\n",
    "    <b>Problem 4: LDA</b>\n",
    "\n",
    "<p>Implement LDA algorithm as described in Lecture 3. Use data from lda_data.csv. The data consists of x coordinate, y coordinate and class label (0 or 1). Compute the quantities appearing in lecture slides. The LDA projection operator $U$ consists of single column which is the eigenvector of $H$ corresponding to the largest eigenvalue. Plot the data and the LDA subspace (line) in same figure. The line depicting the LDA subspace should start from mean $\\mu_G$ and end in $\\mu_G\\pm u$, where $u$ is the direction of LDA subspace.</p>\n",
    "\n",
    "</div>"
   ]
  },
  {
   "cell_type": "code",
   "execution_count": 28,
   "metadata": {},
   "outputs": [
    {
     "name": "stdout",
     "output_type": "stream",
     "text": [
      "Data shape: (17, 3)\n",
      "K: 0\n",
      "K: 1\n",
      "miu_G 0    0.817915\n",
      "1    0.162610\n",
      "dtype: float64\n",
      "Z_W: [[ 0.01866215 -0.0002274 ]\n",
      " [-0.0002274   0.01769553]]\n",
      "Z_B: 0.2596442994664261\n",
      "H: [[13.91506142  0.17881739]\n",
      " [ 0.17881739 14.67517047]]\n",
      "Values: [13.87509559 14.7151363 ]\n",
      "Vectors: [[-0.97592209 -0.21811938]\n",
      " [ 0.21811938 -0.97592209]]\n",
      "MaxEigenvector: [-0.21811938 -0.97592209]\n",
      "The right is  0    0.599796\n",
      "1   -0.813312\n",
      "dtype: float64\n",
      "The left is  0    1.036035\n",
      "1    1.138533\n",
      "dtype: float64\n"
     ]
    },
    {
     "data": {
      "text/plain": [
       "[<matplotlib.lines.Line2D at 0x7eff4f32ff10>]"
      ]
     },
     "execution_count": 28,
     "metadata": {},
     "output_type": "execute_result"
    },
    {
     "data": {
      "image/png": "[encoded data removed]",
      "text/plain": [
       "<Figure size 432x288 with 1 Axes>"
      ]
     },
     "metadata": {
      "needs_background": "light"
     },
     "output_type": "display_data"
    }
   ],
   "source": [
    "df = pd.read_csv('lda_data.csv',header=None)\n",
    "miu_G=0\n",
    "N=df.shape[0]\n",
    "print(\"Data shape:\",df.shape)\n",
    "for k in range(0,2):\n",
    "        print(\"K:\",k)\n",
    "        data=df[df[2]==k]\n",
    "        data=data.iloc[:,0:2]\n",
    "        means=np.mean(data,axis=0)\n",
    "        \n",
    "#         print(data)\n",
    "        miu_G+=data.shape[0]*means\n",
    "miu_G/=N\n",
    "print(\"miu_G\",miu_G)\n",
    "Z_B=0\n",
    "Z_W=0\n",
    "for k in range(0,2):\n",
    "        data=df[df[2]==k]\n",
    "        data=data.iloc[:,0:2]\n",
    "#         print(data)\n",
    "        means=np.mean(data)\n",
    "#         print(\"Data:\",data)\n",
    "       \n",
    "        cov=np.cov(np.transpose(data))\n",
    "       \n",
    "        Z_B+=data.shape[0]*np.dot((means-miu_G),np.transpose(means-miu_G))\n",
    "        Z_W+=data.shape[0]*cov\n",
    "Z_B/=N\n",
    "Z_W/=N\n",
    "print(\"Z_W:\",Z_W)\n",
    "print(\"Z_B:\",Z_B)\n",
    "\n",
    "H=np.dot(np.linalg.inv(Z_W),Z_B)\n",
    "print(\"H:\",H)\n",
    "values,vectors=np.linalg.eig(H)\n",
    "print(\"Values:\",values)\n",
    "print(\"Vectors:\",vectors)\n",
    "plt.plot(df.iloc[:,0],df.iloc[:,1],'bo')\n",
    "maxEigenvalue=np.argmax(values)\n",
    "MaxEigenvector=vectors[:,maxPca]\n",
    "print(\"MaxEigenvector:\",MaxEigenvector)\n",
    "start=miu_G\n",
    "rightEnd=start+MaxEigenvector\n",
    "leftEnd=start-MaxEigenvector\n",
    "print(\"The right is \",rightEnd  )\n",
    "print(\"The left is \",leftEnd  )\n",
    "\n",
    "plt.plot([start[0],rightEnd[0]],[start[1],rightEnd[1]],c=\"red\",linewidth=4)\n",
    "plt.plot([start[0],leftEnd[0]],[start[1],leftEnd[1]],c=\"red\",linewidth=4)\n",
    "\n",
    "# TODO here\n",
    "\n"
   ]
  },
  {
   "cell_type": "code",
   "execution_count": null,
   "metadata": {},
   "outputs": [],
   "source": []
  },
  {
   "cell_type": "markdown",
   "metadata": {},
   "source": [
    "<a id='Task1.1'></a>\n",
    "<div class=\" alert alert-warning\">\n",
    "    <b>Problem 5: Boosting</b>\n",
    "\n",
    "<p>Use the tab-separated(!) file wifi_localization.txt. The data allows to determine indoor room location from wifi signal strenghts. Last column of the file contains class labels of rooms while the first seven columns contains signal strengths of mobile phones. Split the dataset into training (70%), validation (15%) and testing sets (15%). Train GradientBoostingClassifier from sklearn using n_estimators between 1-40. Consult documentation of sklearn (or Google) on how to do this. Compute the validation score on validation set using score(). Plot scores against n. Pick the value for n giving highest score and train the model using training data. For that n,  plot confusion matrix for testing set.</p>\n",
    "\n",
    "</div>"
   ]
  },
  {
   "cell_type": "code",
   "execution_count": 8,
   "metadata": {},
   "outputs": [
    {
     "name": "stdout",
     "output_type": "stream",
     "text": [
      "(1400, 7)\n",
      "(300, 7)\n",
      "(300, 7)\n",
      "Best n: 4\n"
     ]
    },
    {
     "data": {
      "image/png": "[encoded data removed]",
      "text/plain": [
       "<Figure size 432x288 with 1 Axes>"
      ]
     },
     "metadata": {
      "needs_background": "light"
     },
     "output_type": "display_data"
    },
    {
     "data": {
      "image/png": "[encoded data removed]",
      "text/plain": [
       "<Figure size 432x288 with 2 Axes>"
      ]
     },
     "metadata": {
      "needs_background": "light"
     },
     "output_type": "display_data"
    }
   ],
   "source": [
    "df = pd.read_csv('wifi_localization.txt',header=None,sep='\\t')\n",
    "from sklearn.model_selection import train_test_split\n",
    "from sklearn.ensemble import GradientBoostingClassifier\n",
    "X=df.iloc[:,0:7]\n",
    "y=df.iloc[:,7]\n",
    "X_train, X_aux, y_train, y_aux = train_test_split(X,y,test_size=0.30,random_state=0)\n",
    "X_validation,X_test,y_validation, y_test=train_test_split(X_aux,y_aux,test_size=0.50,random_state=0)\n",
    "print(X_train.shape)\n",
    "print(X_validation.shape)\n",
    "print(X_test.shape)\n",
    "bestEst=0\n",
    "bestScore=0\n",
    "for E in range(1,41):\n",
    "    clf = GradientBoostingClassifier(random_state=0,n_estimators=E)\n",
    "    clf.fit(X_train, y_train)\n",
    "    CScore=clf.score(X_validation, y_validation)\n",
    "    if(CScore>bestScore):\n",
    "        bestScore=CScore\n",
    "        bestEst=E\n",
    "    plt.plot(E,CScore,'bo')\n",
    "clf = GradientBoostingClassifier(random_state=0,n_estimators=bestEst)\n",
    "clf.fit(X_train,y_train)\n",
    "from sklearn import metrics\n",
    "print(\"Best n:\",bestEst)\n",
    "# print(metrics.confusion_matrix(y_test,prediction))\n",
    "metrics.plot_confusion_matrix(clf, X_test, y_test)\n",
    "plt.show()\n",
    "    \n",
    " "
   ]
  },
  {
   "cell_type": "code",
   "execution_count": null,
   "metadata": {},
   "outputs": [],
   "source": []
  }
 ],
 "metadata": {
  "kernelspec": {
   "display_name": "Python 3",
   "language": "python",
   "name": "python3"
  },
  "language_info": {
   "codemirror_mode": {
    "name": "ipython",
    "version": 3
   },
   "file_extension": ".py",
   "mimetype": "text/x-python",
   "name": "python",
   "nbconvert_exporter": "python",
   "pygments_lexer": "ipython3",
   "version": "3.7.8"
  },
  "nbdime-conflicts": {
   "local_diff": [
    {
     "diff": [
      {
       "diff": [
        {
         "diff": [
          {
           "key": 4,
           "op": "addrange",
           "valuelist": "3"
          },
          {
           "key": 4,
           "length": 1,
           "op": "removerange"
          }
         ],
         "key": 0,
         "op": "patch"
        }
       ],
       "key": "version",
       "op": "patch"
      }
     ],
     "key": "language_info",
     "op": "patch"
    }
   ],
   "remote_diff": [
    {
     "diff": [
      {
       "diff": [
        {
         "diff": [
          {
           "key": 4,
           "op": "addrange",
           "valuelist": "4"
          },
          {
           "key": 4,
           "length": 1,
           "op": "removerange"
          }
         ],
         "key": 0,
         "op": "patch"
        }
       ],
       "key": "version",
       "op": "patch"
      }
     ],
     "key": "language_info",
     "op": "patch"
    }
   ]
  },
  "toc": {
   "base_numbering": 1,
   "nav_menu": {},
   "number_sections": false,
   "sideBar": true,
   "skip_h1_title": false,
   "title_cell": "Table of Contents",
   "title_sidebar": "Contents",
   "toc_cell": false,
   "toc_position": {
    "height": "507.275px",
    "left": "23.975px",
    "top": "145.5px",
    "width": "318px"
   },
   "toc_section_display": true,
   "toc_window_display": true
  },
  "varInspector": {
   "cols": {
    "lenName": 16,
    "lenType": 16,
    "lenVar": 40
   },
   "kernels_config": {
    "python": {
     "delete_cmd_postfix": "",
     "delete_cmd_prefix": "del ",
     "library": "var_list.py",
     "varRefreshCmd": "print(var_dic_list())"
    },
    "r": {
     "delete_cmd_postfix": ") ",
     "delete_cmd_prefix": "rm(",
     "library": "var_list.r",
     "varRefreshCmd": "cat(var_dic_list()) "
    }
   },
   "oldHeight": 194.85,
   "position": {
    "height": "216.85px",
    "left": "1417px",
    "right": "18px",
    "top": "126px",
    "width": "485px"
   },
   "types_to_exclude": [
    "module",
    "function",
    "builtin_function_or_method",
    "instance",
    "_Feature"
   ],
   "varInspector_section_display": "block",
   "window_display": true
  }
 },
 "nbformat": 4,
 "nbformat_minor": 4
}
